{
 "cells": [
  {
   "cell_type": "markdown",
   "id": "01547976",
   "metadata": {},
   "source": [
    "# Index\n",
    "- [Storing data to MongoDB](#storing_data_to_mongodb)\n",
    "- [Reading data from MongoDB](#reading_from_mongodb)\n",
    "- [Exploratory Data Analysis](#exploratory_data_analysis)\n",
    "- [Data Pre-processing](#data_Pre-processing)\n",
    "- [Store and retrieve data through postgres](#store_and_retrieve_data_through_postgres)\n",
    "- [Data Visualization](#data_visualization)"
   ]
  },
  {
   "cell_type": "markdown",
   "id": "71777e2a",
   "metadata": {},
   "source": [
    "### Importing Libraries "
   ]
  },
  {
   "cell_type": "code",
   "execution_count": 22,
   "id": "b5ae76d0",
   "metadata": {},
   "outputs": [],
   "source": [
    "import pandas as pd\n",
    "import numpy as np\n",
    "import xml.etree.ElementTree as ET\n",
    "from pymongo import MongoClient\n",
    "import json\n",
    "import matplotlib.pyplot as plt\n",
    "import seaborn as sns\n",
    "import plotly.express as px\n",
    "import geopandas as gpd\n",
    "import sqlalchemy as db"
   ]
  },
  {
   "cell_type": "code",
   "execution_count": 2,
   "id": "c5c4914c",
   "metadata": {},
   "outputs": [],
   "source": [
    "import warnings\n",
    "warnings.filterwarnings('ignore')"
   ]
  },
  {
   "cell_type": "markdown",
   "id": "39e105f6",
   "metadata": {},
   "source": [
    "<a id = \"storing_data_to_mongodb\"></a>\n",
    "\n",
    "## Storing data to MongoDB"
   ]
  },
  {
   "cell_type": "code",
   "execution_count": 3,
   "id": "0cd9bb90",
   "metadata": {},
   "outputs": [],
   "source": [
    "def read_xml_to_df(file_path):\n",
    "    # Parse XML data and get root element\n",
    "    tree = ET.parse(file_path)\n",
    "    root = tree.getroot()\n",
    "    \n",
    "    data = []\n",
    "    # find the row element which is nested inside another row element\n",
    "    for outer_row_element in root.findall('.//row'):\n",
    "        row_data = {}\n",
    "        for inner_row_element in outer_row_element.findall('.//row'):\n",
    "            for child_element in inner_row_element:\n",
    "                row_data[child_element.tag] = child_element.text\n",
    "            data.append(row_data.copy())\n",
    "\n",
    "    # Convert the data into dataframe\n",
    "    return pd.DataFrame(data)\n",
    "\n"
   ]
  },
  {
   "cell_type": "code",
   "execution_count": 4,
   "id": "963d08d1",
   "metadata": {},
   "outputs": [],
   "source": [
    "file_path1 = 'Electric Vehicle Population.xml'\n",
    "file_path2= 'Green House gases data.xml'"
   ]
  },
  {
   "cell_type": "code",
   "execution_count": 5,
   "id": "403d2182",
   "metadata": {},
   "outputs": [],
   "source": [
    "df1 = read_xml_to_df(file_path1)\n",
    "df2 = read_xml_to_df(file_path2)"
   ]
  },
  {
   "cell_type": "code",
   "execution_count": 6,
   "id": "799085e7",
   "metadata": {},
   "outputs": [],
   "source": [
    "# function to insert the data into mongo db\n",
    "def insert_to_mongoDB(url, dataframe, database, collection):\n",
    "\n",
    "    client = MongoClient(url)\n",
    "\n",
    "    db = client[database]\n",
    "    collection = db[collection]\n",
    "\n",
    "    # Convert DataFrame to JSON\n",
    "    json_data = dataframe.to_json(orient='records')\n",
    "\n",
    "    # Insert Data into MongoDB\n",
    "    data = json.loads(json_data)\n",
    "    result = collection.insert_many(data)\n",
    "\n",
    "    # Print confirmation\n",
    "    if result.inserted_ids:\n",
    "        print(f\"Data inserted successfully\")\n",
    "    else:\n",
    "        print(\"Failed to insert data\")\n",
    "\n"
   ]
  },
  {
   "cell_type": "code",
   "execution_count": 7,
   "id": "f656562c",
   "metadata": {},
   "outputs": [
    {
     "name": "stdout",
     "output_type": "stream",
     "text": [
      "Data inserted successfully\n",
      "Data inserted successfully\n"
     ]
    }
   ],
   "source": [
    "mongo_url = 'mongodb://localhost:27017/'\n",
    "database = 'Washington_State_Department_of_Licensing'\n",
    "collection1 = 'Electric_Vehicle_Population'\n",
    "collection2 = 'Green_House_Gases_Emission'\n",
    "insert_to_mongoDB(mongo_url, df1, database, collection1)\n",
    "insert_to_mongoDB(mongo_url, df2, database, collection2)"
   ]
  },
  {
   "cell_type": "markdown",
   "id": "4cda70ff",
   "metadata": {},
   "source": [
    "<a id = \"reading_from_mongodb\"></a>\n",
    "\n",
    "## Reading data from MongoDB"
   ]
  },
  {
   "cell_type": "markdown",
   "id": "4b3f0091",
   "metadata": {},
   "source": [
    "#### Data is stored in MongoDB. The following function is to retrive data from MongoDB into a dataframe using pandas"
   ]
  },
  {
   "cell_type": "code",
   "execution_count": 8,
   "id": "d9914ffc",
   "metadata": {},
   "outputs": [],
   "source": [
    "# function to retrieve data from mongo db\n",
    "def retrive_from_mongoDB(url, database, collection):\n",
    "    client = MongoClient(url) \n",
    "    db = client[database]\n",
    "    collection = db[collection]\n",
    "    \n",
    "    # Retrieve data from MongoDB\n",
    "    cursor = collection.find({})\n",
    "    data = list(cursor)\n",
    "    return pd.DataFrame(data)\n",
    "\n",
    "# Read data from MongoDB \n",
    "df_ev = retrive_from_mongoDB(mongo_url, database, collection1)\n",
    "df_GHG = retrive_from_mongoDB(mongo_url, database, collection2)\n"
   ]
  },
  {
   "cell_type": "markdown",
   "id": "c74d0224",
   "metadata": {},
   "source": [
    "<a id = \"exploratory_data_analysis\"></a>\n",
    "## Exploratory data analysis"
   ]
  },
  {
   "cell_type": "markdown",
   "id": "50ba3392",
   "metadata": {},
   "source": [
    "#### ELectric Vehicle Population"
   ]
  },
  {
   "cell_type": "code",
   "execution_count": 9,
   "id": "5ae07c79",
   "metadata": {},
   "outputs": [
    {
     "data": {
      "text/html": [
       "<div>\n",
       "<style scoped>\n",
       "    .dataframe tbody tr th:only-of-type {\n",
       "        vertical-align: middle;\n",
       "    }\n",
       "\n",
       "    .dataframe tbody tr th {\n",
       "        vertical-align: top;\n",
       "    }\n",
       "\n",
       "    .dataframe thead th {\n",
       "        text-align: right;\n",
       "    }\n",
       "</style>\n",
       "<table border=\"1\" class=\"dataframe\">\n",
       "  <thead>\n",
       "    <tr style=\"text-align: right;\">\n",
       "      <th></th>\n",
       "      <th>_id</th>\n",
       "      <th>vin_1_10</th>\n",
       "      <th>county</th>\n",
       "      <th>city</th>\n",
       "      <th>state</th>\n",
       "      <th>zip_code</th>\n",
       "      <th>model_year</th>\n",
       "      <th>make</th>\n",
       "      <th>model</th>\n",
       "      <th>ev_type</th>\n",
       "      <th>cafv_type</th>\n",
       "      <th>electric_range</th>\n",
       "      <th>base_msrp</th>\n",
       "      <th>legislative_district</th>\n",
       "      <th>dol_vehicle_id</th>\n",
       "      <th>geocoded_column</th>\n",
       "      <th>electric_utility</th>\n",
       "      <th>_2020_census_tract</th>\n",
       "    </tr>\n",
       "  </thead>\n",
       "  <tbody>\n",
       "    <tr>\n",
       "      <th>0</th>\n",
       "      <td>657f491acd22c48157c72218</td>\n",
       "      <td>2C4RC1N71H</td>\n",
       "      <td>Kitsap</td>\n",
       "      <td>Bremerton</td>\n",
       "      <td>WA</td>\n",
       "      <td>98311</td>\n",
       "      <td>2017</td>\n",
       "      <td>CHRYSLER</td>\n",
       "      <td>PACIFICA</td>\n",
       "      <td>Plug-in Hybrid Electric Vehicle (PHEV)</td>\n",
       "      <td>Clean Alternative Fuel Vehicle Eligible</td>\n",
       "      <td>33</td>\n",
       "      <td>0</td>\n",
       "      <td>23</td>\n",
       "      <td>349437882</td>\n",
       "      <td>POINT (-122.6466274 47.6341188)</td>\n",
       "      <td>PUGET SOUND ENERGY INC</td>\n",
       "      <td>53035091800</td>\n",
       "    </tr>\n",
       "    <tr>\n",
       "      <th>1</th>\n",
       "      <td>657f491acd22c48157c72219</td>\n",
       "      <td>2C4RC1N7XL</td>\n",
       "      <td>Stevens</td>\n",
       "      <td>Colville</td>\n",
       "      <td>WA</td>\n",
       "      <td>99114</td>\n",
       "      <td>2020</td>\n",
       "      <td>CHRYSLER</td>\n",
       "      <td>PACIFICA</td>\n",
       "      <td>Plug-in Hybrid Electric Vehicle (PHEV)</td>\n",
       "      <td>Clean Alternative Fuel Vehicle Eligible</td>\n",
       "      <td>32</td>\n",
       "      <td>0</td>\n",
       "      <td>7</td>\n",
       "      <td>154690532</td>\n",
       "      <td>POINT (-117.90431 48.547075)</td>\n",
       "      <td>AVISTA CORP</td>\n",
       "      <td>53065950500</td>\n",
       "    </tr>\n",
       "    <tr>\n",
       "      <th>2</th>\n",
       "      <td>657f491acd22c48157c7221a</td>\n",
       "      <td>KNDC3DLCXN</td>\n",
       "      <td>Yakima</td>\n",
       "      <td>Yakima</td>\n",
       "      <td>WA</td>\n",
       "      <td>98908</td>\n",
       "      <td>2022</td>\n",
       "      <td>KIA</td>\n",
       "      <td>EV6</td>\n",
       "      <td>Battery Electric Vehicle (BEV)</td>\n",
       "      <td>Eligibility unknown as battery range has not b...</td>\n",
       "      <td>0</td>\n",
       "      <td>0</td>\n",
       "      <td>14</td>\n",
       "      <td>219969144</td>\n",
       "      <td>POINT (-120.6027202 46.5965625)</td>\n",
       "      <td>PACIFICORP</td>\n",
       "      <td>53077000904</td>\n",
       "    </tr>\n",
       "    <tr>\n",
       "      <th>3</th>\n",
       "      <td>657f491acd22c48157c7221b</td>\n",
       "      <td>5YJ3E1EA0J</td>\n",
       "      <td>Kitsap</td>\n",
       "      <td>Bainbridge Island</td>\n",
       "      <td>WA</td>\n",
       "      <td>98110</td>\n",
       "      <td>2018</td>\n",
       "      <td>TESLA</td>\n",
       "      <td>MODEL 3</td>\n",
       "      <td>Battery Electric Vehicle (BEV)</td>\n",
       "      <td>Clean Alternative Fuel Vehicle Eligible</td>\n",
       "      <td>215</td>\n",
       "      <td>0</td>\n",
       "      <td>23</td>\n",
       "      <td>476786887</td>\n",
       "      <td>POINT (-122.5235781 47.6293323)</td>\n",
       "      <td>PUGET SOUND ENERGY INC</td>\n",
       "      <td>53035091001</td>\n",
       "    </tr>\n",
       "    <tr>\n",
       "      <th>4</th>\n",
       "      <td>657f491acd22c48157c7221c</td>\n",
       "      <td>1N4AZ1CP7J</td>\n",
       "      <td>Thurston</td>\n",
       "      <td>Tumwater</td>\n",
       "      <td>WA</td>\n",
       "      <td>98501</td>\n",
       "      <td>2018</td>\n",
       "      <td>NISSAN</td>\n",
       "      <td>LEAF</td>\n",
       "      <td>Battery Electric Vehicle (BEV)</td>\n",
       "      <td>Clean Alternative Fuel Vehicle Eligible</td>\n",
       "      <td>151</td>\n",
       "      <td>0</td>\n",
       "      <td>35</td>\n",
       "      <td>201185253</td>\n",
       "      <td>POINT (-122.89692 47.043535)</td>\n",
       "      <td>PUGET SOUND ENERGY INC</td>\n",
       "      <td>53067011720</td>\n",
       "    </tr>\n",
       "  </tbody>\n",
       "</table>\n",
       "</div>"
      ],
      "text/plain": [
       "                        _id    vin_1_10    county               city state  \\\n",
       "0  657f491acd22c48157c72218  2C4RC1N71H    Kitsap          Bremerton    WA   \n",
       "1  657f491acd22c48157c72219  2C4RC1N7XL   Stevens           Colville    WA   \n",
       "2  657f491acd22c48157c7221a  KNDC3DLCXN    Yakima             Yakima    WA   \n",
       "3  657f491acd22c48157c7221b  5YJ3E1EA0J    Kitsap  Bainbridge Island    WA   \n",
       "4  657f491acd22c48157c7221c  1N4AZ1CP7J  Thurston           Tumwater    WA   \n",
       "\n",
       "  zip_code model_year      make     model  \\\n",
       "0    98311       2017  CHRYSLER  PACIFICA   \n",
       "1    99114       2020  CHRYSLER  PACIFICA   \n",
       "2    98908       2022       KIA       EV6   \n",
       "3    98110       2018     TESLA   MODEL 3   \n",
       "4    98501       2018    NISSAN      LEAF   \n",
       "\n",
       "                                  ev_type  \\\n",
       "0  Plug-in Hybrid Electric Vehicle (PHEV)   \n",
       "1  Plug-in Hybrid Electric Vehicle (PHEV)   \n",
       "2          Battery Electric Vehicle (BEV)   \n",
       "3          Battery Electric Vehicle (BEV)   \n",
       "4          Battery Electric Vehicle (BEV)   \n",
       "\n",
       "                                           cafv_type electric_range base_msrp  \\\n",
       "0            Clean Alternative Fuel Vehicle Eligible             33         0   \n",
       "1            Clean Alternative Fuel Vehicle Eligible             32         0   \n",
       "2  Eligibility unknown as battery range has not b...              0         0   \n",
       "3            Clean Alternative Fuel Vehicle Eligible            215         0   \n",
       "4            Clean Alternative Fuel Vehicle Eligible            151         0   \n",
       "\n",
       "  legislative_district dol_vehicle_id                  geocoded_column  \\\n",
       "0                   23      349437882  POINT (-122.6466274 47.6341188)   \n",
       "1                    7      154690532     POINT (-117.90431 48.547075)   \n",
       "2                   14      219969144  POINT (-120.6027202 46.5965625)   \n",
       "3                   23      476786887  POINT (-122.5235781 47.6293323)   \n",
       "4                   35      201185253     POINT (-122.89692 47.043535)   \n",
       "\n",
       "         electric_utility _2020_census_tract  \n",
       "0  PUGET SOUND ENERGY INC        53035091800  \n",
       "1             AVISTA CORP        53065950500  \n",
       "2              PACIFICORP        53077000904  \n",
       "3  PUGET SOUND ENERGY INC        53035091001  \n",
       "4  PUGET SOUND ENERGY INC        53067011720  "
      ]
     },
     "execution_count": 9,
     "metadata": {},
     "output_type": "execute_result"
    }
   ],
   "source": [
    "# check the top rows for a general understanding of the dataframe\n",
    "df_ev.head()"
   ]
  },
  {
   "cell_type": "code",
   "execution_count": 10,
   "id": "16db28f4",
   "metadata": {},
   "outputs": [
    {
     "name": "stdout",
     "output_type": "stream",
     "text": [
      "Number of rows:  159467\n",
      "Number of columns:  18\n"
     ]
    }
   ],
   "source": [
    "# check the number of rows and columns in the dataframe\n",
    "rows, columns = df_ev.shape\n",
    "print('Number of rows: ', rows)\n",
    "print('Number of columns: ', columns)"
   ]
  },
  {
   "cell_type": "code",
   "execution_count": 11,
   "id": "9d69c3af",
   "metadata": {},
   "outputs": [
    {
     "data": {
      "text/plain": [
       "Index(['_id', 'vin_1_10', 'county', 'city', 'state', 'zip_code', 'model_year',\n",
       "       'make', 'model', 'ev_type', 'cafv_type', 'electric_range', 'base_msrp',\n",
       "       'legislative_district', 'dol_vehicle_id', 'geocoded_column',\n",
       "       'electric_utility', '_2020_census_tract'],\n",
       "      dtype='object')"
      ]
     },
     "execution_count": 11,
     "metadata": {},
     "output_type": "execute_result"
    }
   ],
   "source": [
    "# check the columns in the dataframe\n",
    "df_ev.columns"
   ]
  },
  {
   "cell_type": "code",
   "execution_count": 12,
   "id": "f31b60f5",
   "metadata": {},
   "outputs": [
    {
     "name": "stdout",
     "output_type": "stream",
     "text": [
      "<class 'pandas.core.frame.DataFrame'>\n",
      "RangeIndex: 159467 entries, 0 to 159466\n",
      "Data columns (total 18 columns):\n",
      " #   Column                Non-Null Count   Dtype \n",
      "---  ------                --------------   ----- \n",
      " 0   _id                   159467 non-null  object\n",
      " 1   vin_1_10              159467 non-null  object\n",
      " 2   county                159467 non-null  object\n",
      " 3   city                  159467 non-null  object\n",
      " 4   state                 159467 non-null  object\n",
      " 5   zip_code              159467 non-null  object\n",
      " 6   model_year            159467 non-null  object\n",
      " 7   make                  159467 non-null  object\n",
      " 8   model                 159467 non-null  object\n",
      " 9   ev_type               159467 non-null  object\n",
      " 10  cafv_type             159467 non-null  object\n",
      " 11  electric_range        159467 non-null  object\n",
      " 12  base_msrp             159467 non-null  object\n",
      " 13  legislative_district  159467 non-null  object\n",
      " 14  dol_vehicle_id        159467 non-null  object\n",
      " 15  geocoded_column       159467 non-null  object\n",
      " 16  electric_utility      159467 non-null  object\n",
      " 17  _2020_census_tract    159467 non-null  object\n",
      "dtypes: object(18)\n",
      "memory usage: 21.9+ MB\n"
     ]
    }
   ],
   "source": [
    "# check the info to understand the datatypes and non-null counts of each feature\n",
    "df_ev.info()"
   ]
  },
  {
   "cell_type": "code",
   "execution_count": 13,
   "id": "b5728ca2",
   "metadata": {},
   "outputs": [
    {
     "data": {
      "image/png": "[encoded data removed]",
      "text/plain": [
       "<Figure size 1000x600 with 1 Axes>"
      ]
     },
     "metadata": {},
     "output_type": "display_data"
    }
   ],
   "source": [
    "# check for missing values in the dataframe using a heatmap\n",
    "plt.figure(figsize=(10, 6))\n",
    "sns.heatmap(df_ev.isnull(), cmap='coolwarm', cbar=False, yticklabels=False)\n",
    "plt.title('Heatmap of Missing Values')\n",
    "plt.show()"
   ]
  },
  {
   "cell_type": "markdown",
   "id": "4b487691",
   "metadata": {},
   "source": [
    "There does not seem to be missing values in any features. It can be confirmed by printing the sum of rows with missing values for all the features."
   ]
  },
  {
   "cell_type": "code",
   "execution_count": 14,
   "id": "4739063b",
   "metadata": {},
   "outputs": [
    {
     "data": {
      "text/plain": [
       "_id                     0\n",
       "vin_1_10                0\n",
       "county                  0\n",
       "city                    0\n",
       "state                   0\n",
       "zip_code                0\n",
       "model_year              0\n",
       "make                    0\n",
       "model                   0\n",
       "ev_type                 0\n",
       "cafv_type               0\n",
       "electric_range          0\n",
       "base_msrp               0\n",
       "legislative_district    0\n",
       "dol_vehicle_id          0\n",
       "geocoded_column         0\n",
       "electric_utility        0\n",
       "_2020_census_tract      0\n",
       "dtype: int64"
      ]
     },
     "execution_count": 14,
     "metadata": {},
     "output_type": "execute_result"
    }
   ],
   "source": [
    "# check for missing values\n",
    "df_ev.isnull().sum()"
   ]
  },
  {
   "cell_type": "code",
   "execution_count": 15,
   "id": "e540e466",
   "metadata": {},
   "outputs": [
    {
     "data": {
      "text/plain": [
       "0"
      ]
     },
     "execution_count": 15,
     "metadata": {},
     "output_type": "execute_result"
    }
   ],
   "source": [
    "# check for any duplicate rows in the dataframe\n",
    "df_ev.duplicated().sum()"
   ]
  },
  {
   "cell_type": "markdown",
   "id": "b0cbaa56",
   "metadata": {},
   "source": [
    "There are no missing values or duplicates in the dataframe."
   ]
  },
  {
   "cell_type": "markdown",
   "id": "fa1ba95c",
   "metadata": {},
   "source": [
    "### Greenhouse gases emission"
   ]
  },
  {
   "cell_type": "code",
   "execution_count": 11,
   "id": "0bf8a9df",
   "metadata": {},
   "outputs": [
    {
     "data": {
      "text/html": [
       "<div>\n",
       "<style scoped>\n",
       "    .dataframe tbody tr th:only-of-type {\n",
       "        vertical-align: middle;\n",
       "    }\n",
       "\n",
       "    .dataframe tbody tr th {\n",
       "        vertical-align: top;\n",
       "    }\n",
       "\n",
       "    .dataframe thead th {\n",
       "        text-align: right;\n",
       "    }\n",
       "</style>\n",
       "<table border=\"1\" class=\"dataframe\">\n",
       "  <thead>\n",
       "    <tr style=\"text-align: right;\">\n",
       "      <th></th>\n",
       "      <th>_id</th>\n",
       "      <th>facility</th>\n",
       "      <th>year</th>\n",
       "      <th>sector</th>\n",
       "      <th>subsector</th>\n",
       "      <th>primary_naics_code</th>\n",
       "      <th>naics_definition</th>\n",
       "      <th>parent_company</th>\n",
       "      <th>city</th>\n",
       "      <th>county</th>\n",
       "      <th>...</th>\n",
       "      <th>methane_mtco2e</th>\n",
       "      <th>nitrous_oxide_mtco2e</th>\n",
       "      <th>hfcs_mtco2e</th>\n",
       "      <th>pfcs_mtco2e</th>\n",
       "      <th>sulfur_hexafluoride_mtco2e</th>\n",
       "      <th>fluorinated_other_mtco2e</th>\n",
       "      <th>notes</th>\n",
       "      <th>point_size</th>\n",
       "      <th>location</th>\n",
       "      <th>geocoded_column</th>\n",
       "    </tr>\n",
       "  </thead>\n",
       "  <tbody>\n",
       "    <tr>\n",
       "      <th>0</th>\n",
       "      <td>657f45fa2e81d728c44ab6af</td>\n",
       "      <td>Alcoa Intalco Works - Ferndale</td>\n",
       "      <td>2021</td>\n",
       "      <td>Metals</td>\n",
       "      <td>Aluminum Production</td>\n",
       "      <td>331312</td>\n",
       "      <td>Primary Aluminum Production</td>\n",
       "      <td>Alcoa Corp.</td>\n",
       "      <td>Ferndale</td>\n",
       "      <td>Whatcom</td>\n",
       "      <td>...</td>\n",
       "      <td>8222</td>\n",
       "      <td>1</td>\n",
       "      <td>0</td>\n",
       "      <td>0</td>\n",
       "      <td>0</td>\n",
       "      <td>0</td>\n",
       "      <td>Curtailed mid 2020.</td>\n",
       "      <td>1</td>\n",
       "      <td>(48.8455, -122.7055)</td>\n",
       "      <td>POINT (-122.7055 48.8455)</td>\n",
       "    </tr>\n",
       "    <tr>\n",
       "      <th>1</th>\n",
       "      <td>657f45fa2e81d728c44ab6b0</td>\n",
       "      <td>Avista Corporation - supplier</td>\n",
       "      <td>2021</td>\n",
       "      <td>Supplier</td>\n",
       "      <td>Natural Gas Supplier</td>\n",
       "      <td>4911</td>\n",
       "      <td>Primary Aluminum Production</td>\n",
       "      <td>Alcoa Corp.</td>\n",
       "      <td>Spokane</td>\n",
       "      <td>Spokane</td>\n",
       "      <td>...</td>\n",
       "      <td>511</td>\n",
       "      <td>609</td>\n",
       "      <td>0</td>\n",
       "      <td>0</td>\n",
       "      <td>0</td>\n",
       "      <td>0</td>\n",
       "      <td>Currently Undergoing Verification.</td>\n",
       "      <td>4</td>\n",
       "      <td>(48.8455, -122.7055)</td>\n",
       "      <td>POINT (-122.7055 48.8455)</td>\n",
       "    </tr>\n",
       "    <tr>\n",
       "      <th>2</th>\n",
       "      <td>657f45fa2e81d728c44ab6b1</td>\n",
       "      <td>Frito Lay - Vancouver</td>\n",
       "      <td>2021</td>\n",
       "      <td>Food Production</td>\n",
       "      <td>Other Food Products</td>\n",
       "      <td>311919</td>\n",
       "      <td>Other Snack Food Manufacturing</td>\n",
       "      <td>PepsiCo Inc</td>\n",
       "      <td>Vancouver</td>\n",
       "      <td>Clark</td>\n",
       "      <td>...</td>\n",
       "      <td>7</td>\n",
       "      <td>8</td>\n",
       "      <td>0</td>\n",
       "      <td>0</td>\n",
       "      <td>0</td>\n",
       "      <td>0</td>\n",
       "      <td>Currently Undergoing Verification.</td>\n",
       "      <td>1</td>\n",
       "      <td>(45.657037, -122.692)</td>\n",
       "      <td>POINT (-122.692 45.657037)</td>\n",
       "    </tr>\n",
       "    <tr>\n",
       "      <th>3</th>\n",
       "      <td>657f45fa2e81d728c44ab6b2</td>\n",
       "      <td>Georgia-Pacific Consumer Operations LLC - Camas</td>\n",
       "      <td>2017</td>\n",
       "      <td>Pulp and Paper</td>\n",
       "      <td>Kraft Mills</td>\n",
       "      <td>322121</td>\n",
       "      <td>Paper (except Newsprint) Mills</td>\n",
       "      <td>Koch Industries Inc.</td>\n",
       "      <td>Camas</td>\n",
       "      <td>Clark</td>\n",
       "      <td>...</td>\n",
       "      <td>7198</td>\n",
       "      <td>1310</td>\n",
       "      <td>0</td>\n",
       "      <td>0</td>\n",
       "      <td>0</td>\n",
       "      <td>0</td>\n",
       "      <td>Currently Undergoing Verification.</td>\n",
       "      <td>3</td>\n",
       "      <td>(45.584271, -122.40843)</td>\n",
       "      <td>POINT (-122.40843 45.584271)</td>\n",
       "    </tr>\n",
       "    <tr>\n",
       "      <th>4</th>\n",
       "      <td>657f45fa2e81d728c44ab6b3</td>\n",
       "      <td>Interfor US, Inc. - Port Angeles</td>\n",
       "      <td>2017</td>\n",
       "      <td>Wood Products</td>\n",
       "      <td>Lumber Mills</td>\n",
       "      <td>321113</td>\n",
       "      <td>Sawmills</td>\n",
       "      <td>Interfor US Inc.</td>\n",
       "      <td>Port Angeles</td>\n",
       "      <td>Clallam</td>\n",
       "      <td>...</td>\n",
       "      <td>77</td>\n",
       "      <td>461</td>\n",
       "      <td>0</td>\n",
       "      <td>0</td>\n",
       "      <td>0</td>\n",
       "      <td>0</td>\n",
       "      <td>Currently Undergoing Verification.</td>\n",
       "      <td>2</td>\n",
       "      <td>(48.103425, -123.518642)</td>\n",
       "      <td>POINT (-123.518642 48.103425)</td>\n",
       "    </tr>\n",
       "  </tbody>\n",
       "</table>\n",
       "<p>5 rows × 24 columns</p>\n",
       "</div>"
      ],
      "text/plain": [
       "                        _id                                         facility  \\\n",
       "0  657f45fa2e81d728c44ab6af                   Alcoa Intalco Works - Ferndale   \n",
       "1  657f45fa2e81d728c44ab6b0                    Avista Corporation - supplier   \n",
       "2  657f45fa2e81d728c44ab6b1                            Frito Lay - Vancouver   \n",
       "3  657f45fa2e81d728c44ab6b2  Georgia-Pacific Consumer Operations LLC - Camas   \n",
       "4  657f45fa2e81d728c44ab6b3                 Interfor US, Inc. - Port Angeles   \n",
       "\n",
       "   year           sector             subsector primary_naics_code  \\\n",
       "0  2021           Metals   Aluminum Production             331312   \n",
       "1  2021         Supplier  Natural Gas Supplier               4911   \n",
       "2  2021  Food Production   Other Food Products             311919   \n",
       "3  2017   Pulp and Paper           Kraft Mills             322121   \n",
       "4  2017    Wood Products          Lumber Mills             321113   \n",
       "\n",
       "                 naics_definition        parent_company          city  \\\n",
       "0     Primary Aluminum Production           Alcoa Corp.      Ferndale   \n",
       "1     Primary Aluminum Production           Alcoa Corp.       Spokane   \n",
       "2  Other Snack Food Manufacturing           PepsiCo Inc     Vancouver   \n",
       "3  Paper (except Newsprint) Mills  Koch Industries Inc.         Camas   \n",
       "4                        Sawmills      Interfor US Inc.  Port Angeles   \n",
       "\n",
       "    county  ... methane_mtco2e nitrous_oxide_mtco2e hfcs_mtco2e pfcs_mtco2e  \\\n",
       "0  Whatcom  ...           8222                    1           0           0   \n",
       "1  Spokane  ...            511                  609           0           0   \n",
       "2    Clark  ...              7                    8           0           0   \n",
       "3    Clark  ...           7198                 1310           0           0   \n",
       "4  Clallam  ...             77                  461           0           0   \n",
       "\n",
       "  sulfur_hexafluoride_mtco2e fluorinated_other_mtco2e  \\\n",
       "0                          0                        0   \n",
       "1                          0                        0   \n",
       "2                          0                        0   \n",
       "3                          0                        0   \n",
       "4                          0                        0   \n",
       "\n",
       "                                notes point_size                  location  \\\n",
       "0                 Curtailed mid 2020.          1      (48.8455, -122.7055)   \n",
       "1  Currently Undergoing Verification.          4      (48.8455, -122.7055)   \n",
       "2  Currently Undergoing Verification.          1     (45.657037, -122.692)   \n",
       "3  Currently Undergoing Verification.          3   (45.584271, -122.40843)   \n",
       "4  Currently Undergoing Verification.          2  (48.103425, -123.518642)   \n",
       "\n",
       "                 geocoded_column  \n",
       "0      POINT (-122.7055 48.8455)  \n",
       "1      POINT (-122.7055 48.8455)  \n",
       "2     POINT (-122.692 45.657037)  \n",
       "3   POINT (-122.40843 45.584271)  \n",
       "4  POINT (-123.518642 48.103425)  \n",
       "\n",
       "[5 rows x 24 columns]"
      ]
     },
     "execution_count": 11,
     "metadata": {},
     "output_type": "execute_result"
    }
   ],
   "source": [
    "# Display the DataFrame\n",
    "df_GHG.head()"
   ]
  },
  {
   "cell_type": "code",
   "execution_count": 12,
   "id": "72b9505a",
   "metadata": {},
   "outputs": [
    {
     "name": "stdout",
     "output_type": "stream",
     "text": [
      "Total number of rows: 1608\n",
      "Total number columns: 24\n"
     ]
    }
   ],
   "source": [
    "#To print total number of rows and columns in a dataframe \n",
    "number_of_rows, number_of_columns = df_GHG.shape\n",
    "\n",
    "print(\"Total number of rows:\",number_of_rows )\n",
    "print(\"Total number columns:\",number_of_columns)"
   ]
  },
  {
   "cell_type": "code",
   "execution_count": 13,
   "id": "92b8eb19",
   "metadata": {},
   "outputs": [
    {
     "name": "stdout",
     "output_type": "stream",
     "text": [
      "<class 'pandas.core.frame.DataFrame'>\n",
      "RangeIndex: 1608 entries, 0 to 1607\n",
      "Data columns (total 24 columns):\n",
      " #   Column                          Non-Null Count  Dtype \n",
      "---  ------                          --------------  ----- \n",
      " 0   _id                             1608 non-null   object\n",
      " 1   facility                        1608 non-null   object\n",
      " 2   year                            1608 non-null   object\n",
      " 3   sector                          1608 non-null   object\n",
      " 4   subsector                       1608 non-null   object\n",
      " 5   primary_naics_code              1608 non-null   object\n",
      " 6   naics_definition                1608 non-null   object\n",
      " 7   parent_company                  1608 non-null   object\n",
      " 8   city                            1608 non-null   object\n",
      " 9   county                          1608 non-null   object\n",
      " 10  jurisdiction                    1608 non-null   object\n",
      " 11  total_emissions_mtco2e          1608 non-null   object\n",
      " 12  biogenic_carbon_dioxide_mtco2e  1608 non-null   object\n",
      " 13  carbon_dioxide_mtco2e           1608 non-null   object\n",
      " 14  methane_mtco2e                  1608 non-null   object\n",
      " 15  nitrous_oxide_mtco2e            1608 non-null   object\n",
      " 16  hfcs_mtco2e                     1608 non-null   object\n",
      " 17  pfcs_mtco2e                     1608 non-null   object\n",
      " 18  sulfur_hexafluoride_mtco2e      1608 non-null   object\n",
      " 19  fluorinated_other_mtco2e        1608 non-null   object\n",
      " 20  notes                           1608 non-null   object\n",
      " 21  point_size                      1608 non-null   object\n",
      " 22  location                        1608 non-null   object\n",
      " 23  geocoded_column                 1608 non-null   object\n",
      "dtypes: object(24)\n",
      "memory usage: 301.6+ KB\n"
     ]
    }
   ],
   "source": [
    "#check the info of dataframe \n",
    "df_GHG.info()\n"
   ]
  },
  {
   "cell_type": "code",
   "execution_count": 14,
   "id": "6fe2b6ff",
   "metadata": {},
   "outputs": [
    {
     "data": {
      "image/png": "[encoded data removed]",
      "text/plain": [
       "<Figure size 1000x600 with 1 Axes>"
      ]
     },
     "metadata": {},
     "output_type": "display_data"
    }
   ],
   "source": [
    "# check for missing values in the dataframe using a heatmap\n",
    "plt.figure(figsize=(10, 6))\n",
    "sns.heatmap(df_GHG.isnull(), cmap='coolwarm', cbar=False, yticklabels=False)\n",
    "plt.title('Heatmap of Missing Values')\n",
    "plt.show()"
   ]
  },
  {
   "cell_type": "code",
   "execution_count": 15,
   "id": "de70f898",
   "metadata": {},
   "outputs": [
    {
     "data": {
      "text/plain": [
       "_id                               0\n",
       "facility                          0\n",
       "year                              0\n",
       "sector                            0\n",
       "subsector                         0\n",
       "primary_naics_code                0\n",
       "naics_definition                  0\n",
       "parent_company                    0\n",
       "city                              0\n",
       "county                            0\n",
       "jurisdiction                      0\n",
       "total_emissions_mtco2e            0\n",
       "biogenic_carbon_dioxide_mtco2e    0\n",
       "carbon_dioxide_mtco2e             0\n",
       "methane_mtco2e                    0\n",
       "nitrous_oxide_mtco2e              0\n",
       "hfcs_mtco2e                       0\n",
       "pfcs_mtco2e                       0\n",
       "sulfur_hexafluoride_mtco2e        0\n",
       "fluorinated_other_mtco2e          0\n",
       "notes                             0\n",
       "point_size                        0\n",
       "location                          0\n",
       "geocoded_column                   0\n",
       "dtype: int64"
      ]
     },
     "execution_count": 15,
     "metadata": {},
     "output_type": "execute_result"
    }
   ],
   "source": [
    "#check the null values \n",
    "df_GHG.isnull().sum()\n"
   ]
  },
  {
   "cell_type": "code",
   "execution_count": 16,
   "id": "8bca46fc",
   "metadata": {},
   "outputs": [
    {
     "data": {
      "text/plain": [
       "0"
      ]
     },
     "execution_count": 16,
     "metadata": {},
     "output_type": "execute_result"
    }
   ],
   "source": [
    "#check for duplicated values \n",
    "df_GHG.duplicated().sum()"
   ]
  },
  {
   "cell_type": "markdown",
   "id": "5dde5785",
   "metadata": {},
   "source": [
    "  From the above methods we can conclude there are no missing values and duplicates in the dataframe "
   ]
  },
  {
   "cell_type": "markdown",
   "id": "602b6331",
   "metadata": {},
   "source": [
    "<a id = \"data_preprocessing\"></a>\n",
    "## Data Preprocessing"
   ]
  },
  {
   "cell_type": "markdown",
   "id": "6a2194fd",
   "metadata": {},
   "source": [
    "1. Check for any changes needed in column names\n",
    "2. Validate the data types of features\n",
    "3. Check for null values in numerical columns and handle them\n",
    "4. Plot the correlation matrix of numerical columns\n",
    "5. Examine the presence of outliers and handle the outliers\n",
    "6. Analyze categorical columns for unique values and value counts\n",
    "7. Simplify category names of features\n",
    "8. Map the abbreviated state names\n",
    "9. Give an index after identifying column with unique values\n",
    "10. Drop columns not needed for analysis"
   ]
  },
  {
   "cell_type": "markdown",
   "id": "ffeb2ec5",
   "metadata": {},
   "source": [
    "From Data Understanding steps, it can be seen that the column names can be renamed for better representation."
   ]
  },
  {
   "cell_type": "code",
   "execution_count": 16,
   "id": "88e92738",
   "metadata": {},
   "outputs": [
    {
     "data": {
      "text/html": [
       "<div>\n",
       "<style scoped>\n",
       "    .dataframe tbody tr th:only-of-type {\n",
       "        vertical-align: middle;\n",
       "    }\n",
       "\n",
       "    .dataframe tbody tr th {\n",
       "        vertical-align: top;\n",
       "    }\n",
       "\n",
       "    .dataframe thead th {\n",
       "        text-align: right;\n",
       "    }\n",
       "</style>\n",
       "<table border=\"1\" class=\"dataframe\">\n",
       "  <thead>\n",
       "    <tr style=\"text-align: right;\">\n",
       "      <th></th>\n",
       "      <th>ID</th>\n",
       "      <th>VIN_1_10</th>\n",
       "      <th>County</th>\n",
       "      <th>City</th>\n",
       "      <th>State</th>\n",
       "      <th>Postal_Code</th>\n",
       "      <th>Model_Year</th>\n",
       "      <th>Make</th>\n",
       "      <th>Model</th>\n",
       "      <th>Electric_Vehicle_Type</th>\n",
       "      <th>Clean_Alternative_Fuel_Vehicle_Eligibility</th>\n",
       "      <th>Electric_Range</th>\n",
       "      <th>Base_MSRP</th>\n",
       "      <th>Legislative_District</th>\n",
       "      <th>DOL_Vehicle_ID</th>\n",
       "      <th>Vehicle_Location</th>\n",
       "      <th>Electric_Utility</th>\n",
       "      <th>2020_Census_Tract</th>\n",
       "    </tr>\n",
       "  </thead>\n",
       "  <tbody>\n",
       "    <tr>\n",
       "      <th>0</th>\n",
       "      <td>657f491acd22c48157c72218</td>\n",
       "      <td>2C4RC1N71H</td>\n",
       "      <td>Kitsap</td>\n",
       "      <td>Bremerton</td>\n",
       "      <td>WA</td>\n",
       "      <td>98311</td>\n",
       "      <td>2017</td>\n",
       "      <td>CHRYSLER</td>\n",
       "      <td>PACIFICA</td>\n",
       "      <td>Plug-in Hybrid Electric Vehicle (PHEV)</td>\n",
       "      <td>Clean Alternative Fuel Vehicle Eligible</td>\n",
       "      <td>33</td>\n",
       "      <td>0</td>\n",
       "      <td>23</td>\n",
       "      <td>349437882</td>\n",
       "      <td>POINT (-122.6466274 47.6341188)</td>\n",
       "      <td>PUGET SOUND ENERGY INC</td>\n",
       "      <td>53035091800</td>\n",
       "    </tr>\n",
       "    <tr>\n",
       "      <th>1</th>\n",
       "      <td>657f491acd22c48157c72219</td>\n",
       "      <td>2C4RC1N7XL</td>\n",
       "      <td>Stevens</td>\n",
       "      <td>Colville</td>\n",
       "      <td>WA</td>\n",
       "      <td>99114</td>\n",
       "      <td>2020</td>\n",
       "      <td>CHRYSLER</td>\n",
       "      <td>PACIFICA</td>\n",
       "      <td>Plug-in Hybrid Electric Vehicle (PHEV)</td>\n",
       "      <td>Clean Alternative Fuel Vehicle Eligible</td>\n",
       "      <td>32</td>\n",
       "      <td>0</td>\n",
       "      <td>7</td>\n",
       "      <td>154690532</td>\n",
       "      <td>POINT (-117.90431 48.547075)</td>\n",
       "      <td>AVISTA CORP</td>\n",
       "      <td>53065950500</td>\n",
       "    </tr>\n",
       "    <tr>\n",
       "      <th>2</th>\n",
       "      <td>657f491acd22c48157c7221a</td>\n",
       "      <td>KNDC3DLCXN</td>\n",
       "      <td>Yakima</td>\n",
       "      <td>Yakima</td>\n",
       "      <td>WA</td>\n",
       "      <td>98908</td>\n",
       "      <td>2022</td>\n",
       "      <td>KIA</td>\n",
       "      <td>EV6</td>\n",
       "      <td>Battery Electric Vehicle (BEV)</td>\n",
       "      <td>Eligibility unknown as battery range has not b...</td>\n",
       "      <td>0</td>\n",
       "      <td>0</td>\n",
       "      <td>14</td>\n",
       "      <td>219969144</td>\n",
       "      <td>POINT (-120.6027202 46.5965625)</td>\n",
       "      <td>PACIFICORP</td>\n",
       "      <td>53077000904</td>\n",
       "    </tr>\n",
       "    <tr>\n",
       "      <th>3</th>\n",
       "      <td>657f491acd22c48157c7221b</td>\n",
       "      <td>5YJ3E1EA0J</td>\n",
       "      <td>Kitsap</td>\n",
       "      <td>Bainbridge Island</td>\n",
       "      <td>WA</td>\n",
       "      <td>98110</td>\n",
       "      <td>2018</td>\n",
       "      <td>TESLA</td>\n",
       "      <td>MODEL 3</td>\n",
       "      <td>Battery Electric Vehicle (BEV)</td>\n",
       "      <td>Clean Alternative Fuel Vehicle Eligible</td>\n",
       "      <td>215</td>\n",
       "      <td>0</td>\n",
       "      <td>23</td>\n",
       "      <td>476786887</td>\n",
       "      <td>POINT (-122.5235781 47.6293323)</td>\n",
       "      <td>PUGET SOUND ENERGY INC</td>\n",
       "      <td>53035091001</td>\n",
       "    </tr>\n",
       "    <tr>\n",
       "      <th>4</th>\n",
       "      <td>657f491acd22c48157c7221c</td>\n",
       "      <td>1N4AZ1CP7J</td>\n",
       "      <td>Thurston</td>\n",
       "      <td>Tumwater</td>\n",
       "      <td>WA</td>\n",
       "      <td>98501</td>\n",
       "      <td>2018</td>\n",
       "      <td>NISSAN</td>\n",
       "      <td>LEAF</td>\n",
       "      <td>Battery Electric Vehicle (BEV)</td>\n",
       "      <td>Clean Alternative Fuel Vehicle Eligible</td>\n",
       "      <td>151</td>\n",
       "      <td>0</td>\n",
       "      <td>35</td>\n",
       "      <td>201185253</td>\n",
       "      <td>POINT (-122.89692 47.043535)</td>\n",
       "      <td>PUGET SOUND ENERGY INC</td>\n",
       "      <td>53067011720</td>\n",
       "    </tr>\n",
       "  </tbody>\n",
       "</table>\n",
       "</div>"
      ],
      "text/plain": [
       "                         ID    VIN_1_10    County               City State  \\\n",
       "0  657f491acd22c48157c72218  2C4RC1N71H    Kitsap          Bremerton    WA   \n",
       "1  657f491acd22c48157c72219  2C4RC1N7XL   Stevens           Colville    WA   \n",
       "2  657f491acd22c48157c7221a  KNDC3DLCXN    Yakima             Yakima    WA   \n",
       "3  657f491acd22c48157c7221b  5YJ3E1EA0J    Kitsap  Bainbridge Island    WA   \n",
       "4  657f491acd22c48157c7221c  1N4AZ1CP7J  Thurston           Tumwater    WA   \n",
       "\n",
       "  Postal_Code Model_Year      Make     Model  \\\n",
       "0       98311       2017  CHRYSLER  PACIFICA   \n",
       "1       99114       2020  CHRYSLER  PACIFICA   \n",
       "2       98908       2022       KIA       EV6   \n",
       "3       98110       2018     TESLA   MODEL 3   \n",
       "4       98501       2018    NISSAN      LEAF   \n",
       "\n",
       "                    Electric_Vehicle_Type  \\\n",
       "0  Plug-in Hybrid Electric Vehicle (PHEV)   \n",
       "1  Plug-in Hybrid Electric Vehicle (PHEV)   \n",
       "2          Battery Electric Vehicle (BEV)   \n",
       "3          Battery Electric Vehicle (BEV)   \n",
       "4          Battery Electric Vehicle (BEV)   \n",
       "\n",
       "          Clean_Alternative_Fuel_Vehicle_Eligibility Electric_Range Base_MSRP  \\\n",
       "0            Clean Alternative Fuel Vehicle Eligible             33         0   \n",
       "1            Clean Alternative Fuel Vehicle Eligible             32         0   \n",
       "2  Eligibility unknown as battery range has not b...              0         0   \n",
       "3            Clean Alternative Fuel Vehicle Eligible            215         0   \n",
       "4            Clean Alternative Fuel Vehicle Eligible            151         0   \n",
       "\n",
       "  Legislative_District DOL_Vehicle_ID                 Vehicle_Location  \\\n",
       "0                   23      349437882  POINT (-122.6466274 47.6341188)   \n",
       "1                    7      154690532     POINT (-117.90431 48.547075)   \n",
       "2                   14      219969144  POINT (-120.6027202 46.5965625)   \n",
       "3                   23      476786887  POINT (-122.5235781 47.6293323)   \n",
       "4                   35      201185253     POINT (-122.89692 47.043535)   \n",
       "\n",
       "         Electric_Utility 2020_Census_Tract  \n",
       "0  PUGET SOUND ENERGY INC       53035091800  \n",
       "1             AVISTA CORP       53065950500  \n",
       "2              PACIFICORP       53077000904  \n",
       "3  PUGET SOUND ENERGY INC       53035091001  \n",
       "4  PUGET SOUND ENERGY INC       53067011720  "
      ]
     },
     "execution_count": 16,
     "metadata": {},
     "output_type": "execute_result"
    }
   ],
   "source": [
    "# renaming column names\n",
    "column_name_mapping = {\n",
    "    '_id': 'ID',\n",
    "    'vin_1_10': 'VIN_1_10',\n",
    "    'county': 'County',\n",
    "    'city': 'City',\n",
    "    'state': 'State',\n",
    "    'zip_code': 'Postal_Code',\n",
    "    'model_year': 'Model_Year',\n",
    "    'make': 'Make',\n",
    "    'model': 'Model',\n",
    "    'ev_type': 'Electric_Vehicle_Type',\n",
    "    'cafv_type': 'Clean_Alternative_Fuel_Vehicle_Eligibility',\n",
    "    'electric_range': 'Electric_Range',\n",
    "    'base_msrp': 'Base_MSRP',\n",
    "    'legislative_district': 'Legislative_District',\n",
    "    'dol_vehicle_id': 'DOL_Vehicle_ID',\n",
    "    'geocoded_column': 'Vehicle_Location',\n",
    "    'electric_utility': 'Electric_Utility',\n",
    "    '_2020_census_tract': '2020_Census_Tract'\n",
    "}\n",
    "\n",
    "df_ev.rename(columns=column_name_mapping, inplace=True)\n",
    "df_ev.head()"
   ]
  },
  {
   "cell_type": "markdown",
   "id": "edeb8d09",
   "metadata": {},
   "source": [
    "Numerical columns"
   ]
  },
  {
   "cell_type": "markdown",
   "id": "488b90ba",
   "metadata": {},
   "source": [
    "From the dataframe, it can be observed that the columns 'Electric_Range' and 'Base_MSRP' should be numerical in nature. But the datatype is Object. So the datatype can be changed to numeric."
   ]
  },
  {
   "cell_type": "code",
   "execution_count": 18,
   "id": "c244c14c",
   "metadata": {},
   "outputs": [],
   "source": [
    "# datatype conversion\n",
    "numeric_columns = ['Electric_Range','Base_MSRP']\n",
    "for col in numeric_columns:\n",
    "    df_ev[col] = pd.to_numeric(df_ev[col], errors='coerce')"
   ]
  },
  {
   "cell_type": "code",
   "execution_count": 19,
   "id": "47f05ccf",
   "metadata": {},
   "outputs": [
    {
     "name": "stdout",
     "output_type": "stream",
     "text": [
      "<class 'pandas.core.frame.DataFrame'>\n",
      "RangeIndex: 159467 entries, 0 to 159466\n",
      "Data columns (total 18 columns):\n",
      " #   Column                                      Non-Null Count   Dtype \n",
      "---  ------                                      --------------   ----- \n",
      " 0   ID                                          159467 non-null  object\n",
      " 1   VIN_1_10                                    159467 non-null  object\n",
      " 2   County                                      159467 non-null  object\n",
      " 3   City                                        159467 non-null  object\n",
      " 4   State                                       159467 non-null  object\n",
      " 5   Postal_Code                                 159467 non-null  object\n",
      " 6   Model_Year                                  159467 non-null  object\n",
      " 7   Make                                        159467 non-null  object\n",
      " 8   Model                                       159467 non-null  object\n",
      " 9   Electric_Vehicle_Type                       159467 non-null  object\n",
      " 10  Clean_Alternative_Fuel_Vehicle_Eligibility  159467 non-null  object\n",
      " 11  Electric_Range                              159467 non-null  int64 \n",
      " 12  Base_MSRP                                   159467 non-null  int64 \n",
      " 13  Legislative_District                        159467 non-null  object\n",
      " 14  DOL_Vehicle_ID                              159467 non-null  object\n",
      " 15  Vehicle_Location                            159467 non-null  object\n",
      " 16  Electric_Utility                            159467 non-null  object\n",
      " 17  2020_Census_Tract                           159467 non-null  object\n",
      "dtypes: int64(2), object(16)\n",
      "memory usage: 21.9+ MB\n"
     ]
    }
   ],
   "source": [
    "# check for datatype again\n",
    "df_ev.info()"
   ]
  },
  {
   "cell_type": "code",
   "execution_count": 20,
   "id": "3f5b90e7",
   "metadata": {},
   "outputs": [
    {
     "data": {
      "text/html": [
       "<div>\n",
       "<style scoped>\n",
       "    .dataframe tbody tr th:only-of-type {\n",
       "        vertical-align: middle;\n",
       "    }\n",
       "\n",
       "    .dataframe tbody tr th {\n",
       "        vertical-align: top;\n",
       "    }\n",
       "\n",
       "    .dataframe thead th {\n",
       "        text-align: right;\n",
       "    }\n",
       "</style>\n",
       "<table border=\"1\" class=\"dataframe\">\n",
       "  <thead>\n",
       "    <tr style=\"text-align: right;\">\n",
       "      <th></th>\n",
       "      <th>Electric_Range</th>\n",
       "      <th>Base_MSRP</th>\n",
       "    </tr>\n",
       "  </thead>\n",
       "  <tbody>\n",
       "    <tr>\n",
       "      <th>0</th>\n",
       "      <td>33</td>\n",
       "      <td>0</td>\n",
       "    </tr>\n",
       "    <tr>\n",
       "      <th>1</th>\n",
       "      <td>32</td>\n",
       "      <td>0</td>\n",
       "    </tr>\n",
       "    <tr>\n",
       "      <th>2</th>\n",
       "      <td>0</td>\n",
       "      <td>0</td>\n",
       "    </tr>\n",
       "    <tr>\n",
       "      <th>3</th>\n",
       "      <td>215</td>\n",
       "      <td>0</td>\n",
       "    </tr>\n",
       "    <tr>\n",
       "      <th>4</th>\n",
       "      <td>151</td>\n",
       "      <td>0</td>\n",
       "    </tr>\n",
       "    <tr>\n",
       "      <th>5</th>\n",
       "      <td>239</td>\n",
       "      <td>0</td>\n",
       "    </tr>\n",
       "    <tr>\n",
       "      <th>6</th>\n",
       "      <td>12</td>\n",
       "      <td>36900</td>\n",
       "    </tr>\n",
       "    <tr>\n",
       "      <th>7</th>\n",
       "      <td>0</td>\n",
       "      <td>0</td>\n",
       "    </tr>\n",
       "    <tr>\n",
       "      <th>8</th>\n",
       "      <td>6</td>\n",
       "      <td>0</td>\n",
       "    </tr>\n",
       "    <tr>\n",
       "      <th>9</th>\n",
       "      <td>0</td>\n",
       "      <td>0</td>\n",
       "    </tr>\n",
       "  </tbody>\n",
       "</table>\n",
       "</div>"
      ],
      "text/plain": [
       "   Electric_Range  Base_MSRP\n",
       "0              33          0\n",
       "1              32          0\n",
       "2               0          0\n",
       "3             215          0\n",
       "4             151          0\n",
       "5             239          0\n",
       "6              12      36900\n",
       "7               0          0\n",
       "8               6          0\n",
       "9               0          0"
      ]
     },
     "execution_count": 20,
     "metadata": {},
     "output_type": "execute_result"
    }
   ],
   "source": [
    "# checking the numeric columns\n",
    "df_ev[numeric_columns].head(10)"
   ]
  },
  {
   "cell_type": "markdown",
   "id": "45e4315c",
   "metadata": {},
   "source": [
    "It can be seen that many rows have values equal to zero for both 'Electric_Range' and 'Base_MSRP'. In practice both the electric range of a vehicle and the Base Manufacturer's Suggested Retail Price (MSRP) being zero does not make sense. Hence we can fill these rows with the mean value of 'Electric_Range' and 'Base_MSRP' of the corresponding 'Make' of the vehicle. In case the mean is zero, we simply replace by mean of all the rows of 'Electric_Range' and 'Base_MSRP'."
   ]
  },
  {
   "cell_type": "code",
   "execution_count": 23,
   "id": "93d992f1",
   "metadata": {},
   "outputs": [
    {
     "data": {
      "text/html": [
       "<div>\n",
       "<style scoped>\n",
       "    .dataframe tbody tr th:only-of-type {\n",
       "        vertical-align: middle;\n",
       "    }\n",
       "\n",
       "    .dataframe tbody tr th {\n",
       "        vertical-align: top;\n",
       "    }\n",
       "\n",
       "    .dataframe thead th {\n",
       "        text-align: right;\n",
       "    }\n",
       "</style>\n",
       "<table border=\"1\" class=\"dataframe\">\n",
       "  <thead>\n",
       "    <tr style=\"text-align: right;\">\n",
       "      <th></th>\n",
       "      <th>ID</th>\n",
       "      <th>VIN_1_10</th>\n",
       "      <th>County</th>\n",
       "      <th>City</th>\n",
       "      <th>State</th>\n",
       "      <th>Postal_Code</th>\n",
       "      <th>Model_Year</th>\n",
       "      <th>Make</th>\n",
       "      <th>Model</th>\n",
       "      <th>Electric_Vehicle_Type</th>\n",
       "      <th>Clean_Alternative_Fuel_Vehicle_Eligibility</th>\n",
       "      <th>Electric_Range</th>\n",
       "      <th>Base_MSRP</th>\n",
       "      <th>Legislative_District</th>\n",
       "      <th>DOL_Vehicle_ID</th>\n",
       "      <th>Vehicle_Location</th>\n",
       "      <th>Electric_Utility</th>\n",
       "      <th>2020_Census_Tract</th>\n",
       "    </tr>\n",
       "  </thead>\n",
       "  <tbody>\n",
       "    <tr>\n",
       "      <th>0</th>\n",
       "      <td>657f491acd22c48157c72218</td>\n",
       "      <td>2C4RC1N71H</td>\n",
       "      <td>Kitsap</td>\n",
       "      <td>Bremerton</td>\n",
       "      <td>WA</td>\n",
       "      <td>98311</td>\n",
       "      <td>2017</td>\n",
       "      <td>CHRYSLER</td>\n",
       "      <td>PACIFICA</td>\n",
       "      <td>Plug-in Hybrid Electric Vehicle (PHEV)</td>\n",
       "      <td>Clean Alternative Fuel Vehicle Eligible</td>\n",
       "      <td>33.000000</td>\n",
       "      <td>39995.000000</td>\n",
       "      <td>23</td>\n",
       "      <td>349437882</td>\n",
       "      <td>POINT (-122.6466274 47.6341188)</td>\n",
       "      <td>PUGET SOUND ENERGY INC</td>\n",
       "      <td>53035091800</td>\n",
       "    </tr>\n",
       "    <tr>\n",
       "      <th>1</th>\n",
       "      <td>657f491acd22c48157c72219</td>\n",
       "      <td>2C4RC1N7XL</td>\n",
       "      <td>Stevens</td>\n",
       "      <td>Colville</td>\n",
       "      <td>WA</td>\n",
       "      <td>99114</td>\n",
       "      <td>2020</td>\n",
       "      <td>CHRYSLER</td>\n",
       "      <td>PACIFICA</td>\n",
       "      <td>Plug-in Hybrid Electric Vehicle (PHEV)</td>\n",
       "      <td>Clean Alternative Fuel Vehicle Eligible</td>\n",
       "      <td>32.000000</td>\n",
       "      <td>39995.000000</td>\n",
       "      <td>7</td>\n",
       "      <td>154690532</td>\n",
       "      <td>POINT (-117.90431 48.547075)</td>\n",
       "      <td>AVISTA CORP</td>\n",
       "      <td>53065950500</td>\n",
       "    </tr>\n",
       "    <tr>\n",
       "      <th>2</th>\n",
       "      <td>657f491acd22c48157c7221a</td>\n",
       "      <td>KNDC3DLCXN</td>\n",
       "      <td>Yakima</td>\n",
       "      <td>Yakima</td>\n",
       "      <td>WA</td>\n",
       "      <td>98908</td>\n",
       "      <td>2022</td>\n",
       "      <td>KIA</td>\n",
       "      <td>EV6</td>\n",
       "      <td>Battery Electric Vehicle (BEV)</td>\n",
       "      <td>Eligibility unknown as battery range has not b...</td>\n",
       "      <td>89.102564</td>\n",
       "      <td>32257.855974</td>\n",
       "      <td>14</td>\n",
       "      <td>219969144</td>\n",
       "      <td>POINT (-120.6027202 46.5965625)</td>\n",
       "      <td>PACIFICORP</td>\n",
       "      <td>53077000904</td>\n",
       "    </tr>\n",
       "    <tr>\n",
       "      <th>3</th>\n",
       "      <td>657f491acd22c48157c7221b</td>\n",
       "      <td>5YJ3E1EA0J</td>\n",
       "      <td>Kitsap</td>\n",
       "      <td>Bainbridge Island</td>\n",
       "      <td>WA</td>\n",
       "      <td>98110</td>\n",
       "      <td>2018</td>\n",
       "      <td>TESLA</td>\n",
       "      <td>MODEL 3</td>\n",
       "      <td>Battery Electric Vehicle (BEV)</td>\n",
       "      <td>Clean Alternative Fuel Vehicle Eligible</td>\n",
       "      <td>215.000000</td>\n",
       "      <td>70159.303049</td>\n",
       "      <td>23</td>\n",
       "      <td>476786887</td>\n",
       "      <td>POINT (-122.5235781 47.6293323)</td>\n",
       "      <td>PUGET SOUND ENERGY INC</td>\n",
       "      <td>53035091001</td>\n",
       "    </tr>\n",
       "    <tr>\n",
       "      <th>4</th>\n",
       "      <td>657f491acd22c48157c7221c</td>\n",
       "      <td>1N4AZ1CP7J</td>\n",
       "      <td>Thurston</td>\n",
       "      <td>Tumwater</td>\n",
       "      <td>WA</td>\n",
       "      <td>98501</td>\n",
       "      <td>2018</td>\n",
       "      <td>NISSAN</td>\n",
       "      <td>LEAF</td>\n",
       "      <td>Battery Electric Vehicle (BEV)</td>\n",
       "      <td>Clean Alternative Fuel Vehicle Eligible</td>\n",
       "      <td>151.000000</td>\n",
       "      <td>65038.025692</td>\n",
       "      <td>35</td>\n",
       "      <td>201185253</td>\n",
       "      <td>POINT (-122.89692 47.043535)</td>\n",
       "      <td>PUGET SOUND ENERGY INC</td>\n",
       "      <td>53067011720</td>\n",
       "    </tr>\n",
       "  </tbody>\n",
       "</table>\n",
       "</div>"
      ],
      "text/plain": [
       "                         ID    VIN_1_10    County               City State  \\\n",
       "0  657f491acd22c48157c72218  2C4RC1N71H    Kitsap          Bremerton    WA   \n",
       "1  657f491acd22c48157c72219  2C4RC1N7XL   Stevens           Colville    WA   \n",
       "2  657f491acd22c48157c7221a  KNDC3DLCXN    Yakima             Yakima    WA   \n",
       "3  657f491acd22c48157c7221b  5YJ3E1EA0J    Kitsap  Bainbridge Island    WA   \n",
       "4  657f491acd22c48157c7221c  1N4AZ1CP7J  Thurston           Tumwater    WA   \n",
       "\n",
       "  Postal_Code Model_Year      Make     Model  \\\n",
       "0       98311       2017  CHRYSLER  PACIFICA   \n",
       "1       99114       2020  CHRYSLER  PACIFICA   \n",
       "2       98908       2022       KIA       EV6   \n",
       "3       98110       2018     TESLA   MODEL 3   \n",
       "4       98501       2018    NISSAN      LEAF   \n",
       "\n",
       "                    Electric_Vehicle_Type  \\\n",
       "0  Plug-in Hybrid Electric Vehicle (PHEV)   \n",
       "1  Plug-in Hybrid Electric Vehicle (PHEV)   \n",
       "2          Battery Electric Vehicle (BEV)   \n",
       "3          Battery Electric Vehicle (BEV)   \n",
       "4          Battery Electric Vehicle (BEV)   \n",
       "\n",
       "          Clean_Alternative_Fuel_Vehicle_Eligibility  Electric_Range  \\\n",
       "0            Clean Alternative Fuel Vehicle Eligible       33.000000   \n",
       "1            Clean Alternative Fuel Vehicle Eligible       32.000000   \n",
       "2  Eligibility unknown as battery range has not b...       89.102564   \n",
       "3            Clean Alternative Fuel Vehicle Eligible      215.000000   \n",
       "4            Clean Alternative Fuel Vehicle Eligible      151.000000   \n",
       "\n",
       "      Base_MSRP Legislative_District DOL_Vehicle_ID  \\\n",
       "0  39995.000000                   23      349437882   \n",
       "1  39995.000000                    7      154690532   \n",
       "2  32257.855974                   14      219969144   \n",
       "3  70159.303049                   23      476786887   \n",
       "4  65038.025692                   35      201185253   \n",
       "\n",
       "                  Vehicle_Location        Electric_Utility 2020_Census_Tract  \n",
       "0  POINT (-122.6466274 47.6341188)  PUGET SOUND ENERGY INC       53035091800  \n",
       "1     POINT (-117.90431 48.547075)             AVISTA CORP       53065950500  \n",
       "2  POINT (-120.6027202 46.5965625)              PACIFICORP       53077000904  \n",
       "3  POINT (-122.5235781 47.6293323)  PUGET SOUND ENERGY INC       53035091001  \n",
       "4     POINT (-122.89692 47.043535)  PUGET SOUND ENERGY INC       53067011720  "
      ]
     },
     "execution_count": 23,
     "metadata": {},
     "output_type": "execute_result"
    }
   ],
   "source": [
    "# function to impute 'Electric_Range' and 'Base_MSRP' by mean values\n",
    "def transform_by_mean_of_Make(df, column_name):\n",
    "    # Replace 0 values with NaN in the specified column\n",
    "    df[column_name].replace(0, np.nan, inplace=True)\n",
    "\n",
    "    # Calculate mean by Make\n",
    "    mean_by_make = df.groupby('Make')[column_name].mean()\n",
    "\n",
    "    # function to fill NaN values in the specified column based on the mean of Make\n",
    "    def fill_nan(row):\n",
    "        if pd.isna(row[column_name]):\n",
    "            group_mean = mean_by_make.get(row['Make'])\n",
    "            if pd.notna(group_mean):\n",
    "                return group_mean\n",
    "        return row[column_name]\n",
    "\n",
    "    # Apply the fill_nan function to fill NaN values in the specified column\n",
    "    df[column_name] = df.apply(fill_nan, axis=1)\n",
    "\n",
    "    # Fill remaining NaN values with the overall mean of the column\n",
    "    df[column_name].fillna(df[column_name].mean(), inplace=True)\n",
    "\n",
    "    return df\n",
    "\n",
    "df_ev = transform_by_mean_of_Make(df_ev, 'Base_MSRP')\n",
    "df_ev = transform_by_mean_of_Make(df_ev, 'Electric_Range')\n",
    "\n",
    "# Display the updated DataFrame\n",
    "df_ev.head()"
   ]
  },
  {
   "cell_type": "code",
   "execution_count": 24,
   "id": "8c978276",
   "metadata": {},
   "outputs": [
    {
     "data": {
      "text/html": [
       "<div>\n",
       "<style scoped>\n",
       "    .dataframe tbody tr th:only-of-type {\n",
       "        vertical-align: middle;\n",
       "    }\n",
       "\n",
       "    .dataframe tbody tr th {\n",
       "        vertical-align: top;\n",
       "    }\n",
       "\n",
       "    .dataframe thead th {\n",
       "        text-align: right;\n",
       "    }\n",
       "</style>\n",
       "<table border=\"1\" class=\"dataframe\">\n",
       "  <thead>\n",
       "    <tr style=\"text-align: right;\">\n",
       "      <th></th>\n",
       "      <th>count</th>\n",
       "      <th>mean</th>\n",
       "      <th>std</th>\n",
       "      <th>min</th>\n",
       "      <th>25%</th>\n",
       "      <th>50%</th>\n",
       "      <th>75%</th>\n",
       "      <th>max</th>\n",
       "    </tr>\n",
       "  </thead>\n",
       "  <tbody>\n",
       "    <tr>\n",
       "      <th>Electric_Range</th>\n",
       "      <td>159467.0</td>\n",
       "      <td>152.154787</td>\n",
       "      <td>94.550601</td>\n",
       "      <td>6.0</td>\n",
       "      <td>47.000000</td>\n",
       "      <td>153.000000</td>\n",
       "      <td>240.696220</td>\n",
       "      <td>337.0</td>\n",
       "    </tr>\n",
       "    <tr>\n",
       "      <th>Base_MSRP</th>\n",
       "      <td>159467.0</td>\n",
       "      <td>65038.025692</td>\n",
       "      <td>11232.986630</td>\n",
       "      <td>31950.0</td>\n",
       "      <td>65038.025692</td>\n",
       "      <td>65038.025692</td>\n",
       "      <td>70159.303049</td>\n",
       "      <td>845000.0</td>\n",
       "    </tr>\n",
       "  </tbody>\n",
       "</table>\n",
       "</div>"
      ],
      "text/plain": [
       "                   count          mean           std      min           25%  \\\n",
       "Electric_Range  159467.0    152.154787     94.550601      6.0     47.000000   \n",
       "Base_MSRP       159467.0  65038.025692  11232.986630  31950.0  65038.025692   \n",
       "\n",
       "                         50%           75%       max  \n",
       "Electric_Range    153.000000    240.696220     337.0  \n",
       "Base_MSRP       65038.025692  70159.303049  845000.0  "
      ]
     },
     "execution_count": 24,
     "metadata": {},
     "output_type": "execute_result"
    }
   ],
   "source": [
    "# check for the statistics of numerical columns\n",
    "df_ev[numeric_columns].describe().T"
   ]
  },
  {
   "cell_type": "code",
   "execution_count": 25,
   "id": "b332fd06",
   "metadata": {},
   "outputs": [
    {
     "data": {
      "text/plain": [
       "<Axes: >"
      ]
     },
     "execution_count": 25,
     "metadata": {},
     "output_type": "execute_result"
    },
    {
     "data": {
      "image/png": "[encoded data removed]",
      "text/plain": [
       "<Figure size 640x480 with 2 Axes>"
      ]
     },
     "metadata": {},
     "output_type": "display_data"
    }
   ],
   "source": [
    "# plot the correlation matrix as heatmap to understand the relation\n",
    "correlation_matrix = df_ev[numeric_columns].corr()\n",
    "sns.heatmap(correlation_matrix, annot=True, cmap='coolwarm')"
   ]
  },
  {
   "cell_type": "markdown",
   "id": "c9ed0b27",
   "metadata": {},
   "source": [
    "A slight positive correlation seems to exist between electric range and Base MSRP with correlation coefficient of 0.39. This roughly means vehicles with higher electric ranges have higher Base MSRP."
   ]
  },
  {
   "cell_type": "code",
   "execution_count": 26,
   "id": "ce1d119a",
   "metadata": {},
   "outputs": [
    {
     "name": "stdout",
     "output_type": "stream",
     "text": [
      "                                         min    max\n",
      "Electric_Vehicle_Type                              \n",
      "Battery Electric Vehicle (BEV)          17.0  337.0\n",
      "Plug-in Hybrid Electric Vehicle (PHEV)   6.0  153.0\n"
     ]
    }
   ],
   "source": [
    "# check the electric range of vehicles with respect to Vehicle type\n",
    "range_stats = df_ev.groupby('Electric_Vehicle_Type')['Electric_Range'].agg(['min', 'max'])\n",
    "print(range_stats)"
   ]
  },
  {
   "cell_type": "markdown",
   "id": "0cc4e3a5",
   "metadata": {},
   "source": [
    "From research articles, we know that the usual electric range for Battery Electric Vehicle(BEV) is 120 - 400 and Plug-in Hybrid Electric Vehicle is 20-60. Considering technological advancements over the years, the range might have been much less in the past and much higher in recent years. So assuming the ideal electric range of BEV to be  50 - 450 and PHEV to be 10 - 100, we ca assume the rows not aligning to this value range are misrecordings."
   ]
  },
  {
   "cell_type": "code",
   "execution_count": 27,
   "id": "82346bc6",
   "metadata": {},
   "outputs": [
    {
     "name": "stdout",
     "output_type": "stream",
     "text": [
      "Number of outliers : 1169\n"
     ]
    }
   ],
   "source": [
    "# function to check outliers based on ideal electric ranges for specific electric vehicle type\n",
    "def check_for_outliers(df):\n",
    "    # The electric range criteria for BEV and PHEV\n",
    "    bev_range_criteria = (50, 450)\n",
    "    phev_range_criteria = (10, 100)\n",
    "\n",
    "    # BEV outliers\n",
    "    bev_outliers = (df['Electric_Vehicle_Type'] == 'Battery Electric Vehicle(BEV)') & ~df['Electric_Range'].between(*bev_range_criteria)\n",
    "\n",
    "    # PHEV outliers\n",
    "    phev_outliers = (df['Electric_Vehicle_Type'] == 'Plug-in Hybrid Electric Vehicle (PHEV)') & ~df['Electric_Range'].between(*phev_range_criteria)\n",
    "\n",
    "    # Combine both to get all outliers\n",
    "    all_outliers = bev_outliers | phev_outliers\n",
    "\n",
    "    # Display the rows that meet the outlier criteria\n",
    "    outlier_rows = df[all_outliers]\n",
    "    print('Number of outliers :',len(outlier_rows))\n",
    "    return outlier_rows\n",
    "\n",
    "outlier_rows = check_for_outliers(df_ev)"
   ]
  },
  {
   "cell_type": "markdown",
   "id": "b6bcac4f",
   "metadata": {},
   "source": [
    "There are about 1169 outliers which do not fall in the electric range criteria"
   ]
  },
  {
   "cell_type": "code",
   "execution_count": 28,
   "id": "751444e2",
   "metadata": {},
   "outputs": [
    {
     "data": {
      "image/png": "[encoded data removed]",
      "text/plain": [
       "<Figure size 1000x600 with 1 Axes>"
      ]
     },
     "metadata": {},
     "output_type": "display_data"
    }
   ],
   "source": [
    "# Box plot to visualize the distribution of electric range by vehicle type\n",
    "plt.figure(figsize=(10, 6))\n",
    "sns.boxplot(x='Electric_Vehicle_Type', y='Electric_Range', data=df_ev, palette='Set2')\n",
    "plt.title('Distribution of Electric Range by Vehicle Type')\n",
    "plt.xlabel('Electric Vehicle Type')\n",
    "plt.ylabel('Electric Range')\n",
    "plt.show()"
   ]
  },
  {
   "cell_type": "markdown",
   "id": "afa23522",
   "metadata": {},
   "source": [
    "There seems to be outliers present in Pulg-in Hybrid vehicle(PHEV) type. We can confirm this with the function created before."
   ]
  },
  {
   "cell_type": "code",
   "execution_count": 29,
   "id": "67426b74",
   "metadata": {},
   "outputs": [
    {
     "name": "stdout",
     "output_type": "stream",
     "text": [
      "Number of outliers : 1169\n"
     ]
    },
    {
     "data": {
      "text/plain": [
       "Plug-in Hybrid Electric Vehicle (PHEV)    1169\n",
       "Name: Electric_Vehicle_Type, dtype: int64"
      ]
     },
     "execution_count": 29,
     "metadata": {},
     "output_type": "execute_result"
    }
   ],
   "source": [
    "# check for value counts of outliers for different electric vehicle types\n",
    "check_for_outliers(df_ev).Electric_Vehicle_Type.value_counts()"
   ]
  },
  {
   "cell_type": "markdown",
   "id": "e5b82451",
   "metadata": {},
   "source": [
    "It can be concluded that all the outliers are from the Plug-in Hybrid vehicle(PHEV). We chose to impute these outliers with mean of Electric Range for Plug-in Hybrid vehicle(PHEV)."
   ]
  },
  {
   "cell_type": "code",
   "execution_count": 30,
   "id": "5cf8873b",
   "metadata": {},
   "outputs": [
    {
     "name": "stdout",
     "output_type": "stream",
     "text": [
      "Number of outliers : 1169\n",
      "Number of outliers : 0\n"
     ]
    }
   ],
   "source": [
    "# function to impute PHEV Outliers\n",
    "def impute_phev_outliers(df):\n",
    "    df_copy = df.copy()\n",
    "\n",
    "    # Get PHEV outliers\n",
    "    phev_outliers = check_for_outliers(df_copy)\n",
    "\n",
    "    # Calculate the mean of electric range excluding outliers for PHEV\n",
    "    phev_mean_value = df_copy.loc[df_copy['Electric_Vehicle_Type'] == 'Plug-in Hybrid Electric Vehicle (PHEV)', 'Electric_Range'].mean()\n",
    "\n",
    "    # Impute outliers with the mean value for PHEV\n",
    "    df_copy.loc[phev_outliers.index, 'Electric_Range'] = phev_mean_value\n",
    "\n",
    "    return df_copy\n",
    "\n",
    "df_ev = impute_phev_outliers(df_ev)\n",
    "# Check for outliers again if needed\n",
    "outliers_after_imputation = check_for_outliers(df_ev)\n"
   ]
  },
  {
   "cell_type": "markdown",
   "id": "f4a86cdb",
   "metadata": {},
   "source": [
    "It can be seen that after imputation, the outliers are not present."
   ]
  },
  {
   "cell_type": "markdown",
   "id": "ac5ae443",
   "metadata": {},
   "source": [
    "Categorical columns"
   ]
  },
  {
   "cell_type": "code",
   "execution_count": 31,
   "id": "8c8be121",
   "metadata": {},
   "outputs": [
    {
     "data": {
      "text/plain": [
       "['ID',\n",
       " 'VIN_1_10',\n",
       " 'County',\n",
       " 'City',\n",
       " 'State',\n",
       " 'Postal_Code',\n",
       " 'Model_Year',\n",
       " 'Make',\n",
       " 'Model',\n",
       " 'Electric_Vehicle_Type',\n",
       " 'Clean_Alternative_Fuel_Vehicle_Eligibility',\n",
       " 'Legislative_District',\n",
       " 'DOL_Vehicle_ID',\n",
       " 'Vehicle_Location',\n",
       " 'Electric_Utility',\n",
       " '2020_Census_Tract']"
      ]
     },
     "execution_count": 31,
     "metadata": {},
     "output_type": "execute_result"
    }
   ],
   "source": [
    "# list out the categorical features in the dataset\n",
    "catergorical_features = [col for col in df_ev.columns if df_ev[col].dtype =='object']\n",
    "catergorical_features"
   ]
  },
  {
   "cell_type": "code",
   "execution_count": 32,
   "id": "699b9d6d",
   "metadata": {},
   "outputs": [
    {
     "data": {
      "text/plain": [
       "King         83413\n",
       "Snohomish    18545\n",
       "Pierce       12315\n",
       "Clark         9370\n",
       "Thurston      5712\n",
       "Kitsap        5216\n",
       "Spokane       4018\n",
       "Whatcom       3865\n",
       "Benton        1942\n",
       "Skagit        1759\n",
       "Name: County, dtype: int64"
      ]
     },
     "execution_count": 32,
     "metadata": {},
     "output_type": "execute_result"
    }
   ],
   "source": [
    "# Top 10 Counties of electric Vehicles population\n",
    "df_ev['County'].value_counts().head(10)"
   ]
  },
  {
   "cell_type": "code",
   "execution_count": 33,
   "id": "1ac0973a",
   "metadata": {},
   "outputs": [
    {
     "data": {
      "text/plain": [
       "Seattle      26932\n",
       "Bellevue      8076\n",
       "Redmond       5796\n",
       "Vancouver     5599\n",
       "Bothell       5176\n",
       "Kirkland      4859\n",
       "Sammamish     4657\n",
       "Renton        4366\n",
       "Olympia       3849\n",
       "Tacoma        3333\n",
       "Name: City, dtype: int64"
      ]
     },
     "execution_count": 33,
     "metadata": {},
     "output_type": "execute_result"
    }
   ],
   "source": [
    "# Top 10 Cities of electric Vehicles population\n",
    "df_ev['City'].value_counts().head(10)"
   ]
  },
  {
   "cell_type": "code",
   "execution_count": 34,
   "id": "f6d90856",
   "metadata": {},
   "outputs": [
    {
     "data": {
      "text/plain": [
       "array(['WA', 'GA', 'BC', 'CA', 'IL', 'NC', 'TX', 'PA', 'NE', 'MD', 'OR',\n",
       "       'MS', 'VA', 'DC', 'NY', 'NV', 'MO', 'AL', 'AZ', 'SC', 'KS', 'LA',\n",
       "       'NJ', 'CO', 'IN', 'HI', 'CT', 'FL', 'NH', 'DE', 'ID', 'KY', 'MA',\n",
       "       'MT', 'AK', 'WY', 'MI', 'AP', 'AR', 'IA', 'OH', 'UT', 'AE', 'OK',\n",
       "       'MN'], dtype=object)"
      ]
     },
     "execution_count": 34,
     "metadata": {},
     "output_type": "execute_result"
    }
   ],
   "source": [
    "# States across which electric vehicle population is distributed\n",
    "df_ev['State'].unique()"
   ]
  },
  {
   "cell_type": "code",
   "execution_count": 35,
   "id": "99d5124f",
   "metadata": {},
   "outputs": [
    {
     "name": "stdout",
     "output_type": "stream",
     "text": [
      "0    Washington\n",
      "1    Washington\n",
      "2    Washington\n",
      "3    Washington\n",
      "4    Washington\n",
      "5    Washington\n",
      "6    Washington\n",
      "7    Washington\n",
      "8    Washington\n",
      "9    Washington\n",
      "Name: State, dtype: object\n"
     ]
    }
   ],
   "source": [
    "# Map the state names to their abbreviations for better understanding in the dataframe\n",
    "state_map = {'AL': 'Alabama',\n",
    "    'AK': 'Alaska',\n",
    "    'AZ': 'Arizona',\n",
    "    'AR': 'Arkansas',\n",
    "    'CA': 'California',\n",
    "    'CO': 'Colorado',\n",
    "    'CT': 'Connecticut',\n",
    "    'DE': 'Delaware',\n",
    "    'FL': 'Florida',\n",
    "    'GA': 'Georgia',\n",
    "    'HI': 'Hawaii',\n",
    "    'ID': 'Idaho',\n",
    "    'IL': 'Illinois',\n",
    "    'IN': 'Indiana',\n",
    "    'IA': 'Iowa',\n",
    "    'KS': 'Kansas',\n",
    "    'KY': 'Kentucky',\n",
    "    'LA': 'Louisiana',\n",
    "    'ME': 'Maine',\n",
    "    'MD': 'Maryland',\n",
    "    'MA': 'Massachusetts',\n",
    "    'MI': 'Michigan',\n",
    "    'MN': 'Minnesota',\n",
    "    'MS': 'Mississippi',\n",
    "    'MO': 'Missouri',\n",
    "    'MT': 'Montana',\n",
    "    'NE': 'Nebraska',\n",
    "    'NV': 'Nevada',\n",
    "    'NH': 'New Hampshire',\n",
    "    'NJ': 'New Jersey',\n",
    "    'NM': 'New Mexico',\n",
    "    'NY': 'New York',\n",
    "    'NC': 'North Carolina',\n",
    "    'ND': 'North Dakota',\n",
    "    'OH': 'Ohio',\n",
    "    'OK': 'Oklahoma',\n",
    "    'OR': 'Oregon',\n",
    "    'PA': 'Pennsylvania',\n",
    "    'RI': 'Rhode Island',\n",
    "    'SC': 'South Carolina',\n",
    "    'SD': 'South Dakota',\n",
    "    'TN': 'Tennessee',\n",
    "    'TX': 'Texas',\n",
    "    'UT': 'Utah',\n",
    "    'VT': 'Vermont',\n",
    "    'VA': 'Virginia',\n",
    "    'WA': 'Washington',\n",
    "    'WV': 'West Virginia',\n",
    "    'WI': 'Wisconsin',\n",
    "    'WY': 'Wyoming'}\n",
    "\n",
    "df_ev['State'] = df_ev['State'].replace(state_map)\n",
    "print(df_ev['State'].head(10))"
   ]
  },
  {
   "cell_type": "code",
   "execution_count": 36,
   "id": "018f7cf4",
   "metadata": {},
   "outputs": [
    {
     "data": {
      "text/plain": [
       "Washington        159106\n",
       "California            95\n",
       "Virginia              37\n",
       "Maryland              35\n",
       "Texas                 22\n",
       "North Carolina        14\n",
       "Illinois              13\n",
       "Colorado              13\n",
       "Florida                9\n",
       "Hawaii                 9\n",
       "Name: State, dtype: int64"
      ]
     },
     "execution_count": 36,
     "metadata": {},
     "output_type": "execute_result"
    }
   ],
   "source": [
    "# Top 10 Sattes of electric Vehicles population\n",
    "df_ev['State'].value_counts().head(10)"
   ]
  },
  {
   "cell_type": "markdown",
   "id": "bc55e31a",
   "metadata": {},
   "source": [
    "Washington seems to have the highest value count indicating highest electric vehicle population"
   ]
  },
  {
   "cell_type": "code",
   "execution_count": 37,
   "id": "d791f6c5",
   "metadata": {},
   "outputs": [
    {
     "name": "stdout",
     "output_type": "stream",
     "text": [
      "['1997', '1998', '1999', '2000', '2002', '2003', '2008', '2010', '2011', '2012', '2013', '2014', '2015', '2016', '2017', '2018', '2019', '2020', '2021', '2022', '2023', '2024']\n"
     ]
    }
   ],
   "source": [
    "# The time period of the records of electric vehicle registration in the dataframe\n",
    "print(sorted(df_ev['Model_Year'].unique()))"
   ]
  },
  {
   "cell_type": "markdown",
   "id": "da8f7cf1",
   "metadata": {},
   "source": [
    "The records range from the Model year 1997 to 2024. Having vehicles registered with model year 2024 is practically incorrect. These could be misrecordings. We can check for the count of such rows."
   ]
  },
  {
   "cell_type": "code",
   "execution_count": 38,
   "id": "9f74060f",
   "metadata": {},
   "outputs": [
    {
     "name": "stdout",
     "output_type": "stream",
     "text": [
      "Count of rows with Model_Year 2024: 1714\n"
     ]
    }
   ],
   "source": [
    "# check for records with Model_Year 2024\n",
    "count_2024 = df_ev[df_ev['Model_Year'] == '2024'].shape[0]\n",
    "print(f\"Count of rows with Model_Year 2024: {count_2024}\")"
   ]
  },
  {
   "cell_type": "markdown",
   "id": "8d2ec199",
   "metadata": {},
   "source": [
    "There are about 1714 records with incorrect Model_year. We can remove these rows to avoid incorrect records in the dataframe."
   ]
  },
  {
   "cell_type": "code",
   "execution_count": 39,
   "id": "c1afb409",
   "metadata": {},
   "outputs": [
    {
     "data": {
      "text/plain": [
       "(157753, 18)"
      ]
     },
     "execution_count": 39,
     "metadata": {},
     "output_type": "execute_result"
    }
   ],
   "source": [
    "model_year_to_remove = '2024'\n",
    "df_ev = df_ev[df_ev['Model_Year'] != model_year_to_remove]\n",
    "df_ev.shape"
   ]
  },
  {
   "cell_type": "code",
   "execution_count": 40,
   "id": "284591c6",
   "metadata": {},
   "outputs": [
    {
     "name": "stdout",
     "output_type": "stream",
     "text": [
      "Count of rows with Model_Year 2024: 0\n"
     ]
    }
   ],
   "source": [
    "count_2024 = df_ev[df_ev['Model_Year'] == '2024'].shape[0]\n",
    "print(f\"Count of rows with Model_Year 2024: {count_2024}\")"
   ]
  },
  {
   "cell_type": "code",
   "execution_count": 41,
   "id": "25b29dee",
   "metadata": {},
   "outputs": [
    {
     "data": {
      "text/plain": [
       "array(['CHRYSLER', 'KIA', 'TESLA', 'NISSAN', 'MINI', 'TOYOTA', 'FORD',\n",
       "       'VOLVO', 'CHEVROLET', 'FIAT', 'AUDI', 'BMW', 'JEEP', 'POLESTAR',\n",
       "       'HONDA', 'VOLKSWAGEN', 'LINCOLN', 'MERCEDES-BENZ', 'RIVIAN',\n",
       "       'PORSCHE', 'HYUNDAI', 'SUBARU', 'SMART', 'JAGUAR', 'MITSUBISHI',\n",
       "       'CADILLAC', 'LEXUS', 'GENESIS', 'LUCID', 'LAND ROVER', 'TH!NK',\n",
       "       'WHEEGO ELECTRIC CARS', 'FISKER', 'BENTLEY', 'AZURE DYNAMICS'],\n",
       "      dtype=object)"
      ]
     },
     "execution_count": 41,
     "metadata": {},
     "output_type": "execute_result"
    }
   ],
   "source": [
    "# Check the different Makes of Vehicles \n",
    "df_ev['Make'].unique()"
   ]
  },
  {
   "cell_type": "code",
   "execution_count": 42,
   "id": "9e991e82",
   "metadata": {},
   "outputs": [
    {
     "data": {
      "text/plain": [
       "MODEL Y           30841\n",
       "MODEL 3           28589\n",
       "LEAF              13294\n",
       "MODEL S            7650\n",
       "BOLT EV            6112\n",
       "MODEL X            5317\n",
       "VOLT               4878\n",
       "ID.4               3353\n",
       "NIRO               3015\n",
       "MUSTANG MACH-E     2938\n",
       "Name: Model, dtype: int64"
      ]
     },
     "execution_count": 42,
     "metadata": {},
     "output_type": "execute_result"
    }
   ],
   "source": [
    "# Top 10 Models of electric vehicles\n",
    "df_ev['Model'].value_counts().head(10)"
   ]
  },
  {
   "cell_type": "code",
   "execution_count": 43,
   "id": "ee39c191",
   "metadata": {},
   "outputs": [
    {
     "data": {
      "text/plain": [
       "array(['Plug-in Hybrid Electric Vehicle (PHEV)',\n",
       "       'Battery Electric Vehicle (BEV)'], dtype=object)"
      ]
     },
     "execution_count": 43,
     "metadata": {},
     "output_type": "execute_result"
    }
   ],
   "source": [
    "# Check the type of electric vehicles\n",
    "df_ev['Electric_Vehicle_Type'].unique()"
   ]
  },
  {
   "cell_type": "code",
   "execution_count": 44,
   "id": "f29912ee",
   "metadata": {},
   "outputs": [
    {
     "data": {
      "text/plain": [
       "Battery Electric Vehicle (BEV)            123545\n",
       "Plug-in Hybrid Electric Vehicle (PHEV)     34208\n",
       "Name: Electric_Vehicle_Type, dtype: int64"
      ]
     },
     "execution_count": 44,
     "metadata": {},
     "output_type": "execute_result"
    }
   ],
   "source": [
    "# Distribution of Electric vehicle types\n",
    "df_ev['Electric_Vehicle_Type'].value_counts()"
   ]
  },
  {
   "cell_type": "markdown",
   "id": "0b99ad83",
   "metadata": {},
   "source": [
    "The names can be shortened for easier analysis. Hence map the categories to Abbreviations."
   ]
  },
  {
   "cell_type": "code",
   "execution_count": 45,
   "id": "27e09e30",
   "metadata": {},
   "outputs": [],
   "source": [
    "# Map electric vehicle type to PHEV and BEV\n",
    "df_ev['Electric_Vehicle_Type'] = df_ev['Electric_Vehicle_Type'].map({'Plug-in Hybrid Electric Vehicle (PHEV)': 'PHEV',\n",
    "                                                               'Battery Electric Vehicle (BEV)': 'BEV'})"
   ]
  },
  {
   "cell_type": "code",
   "execution_count": 46,
   "id": "0e50a1ba",
   "metadata": {},
   "outputs": [
    {
     "data": {
      "text/plain": [
       "array(['Clean Alternative Fuel Vehicle Eligible',\n",
       "       'Eligibility unknown as battery range has not been researched',\n",
       "       'Not eligible due to low battery range'], dtype=object)"
      ]
     },
     "execution_count": 46,
     "metadata": {},
     "output_type": "execute_result"
    }
   ],
   "source": [
    "# Check categories in Clean_Alternative_Fuel_Vehicle_Eligibility\n",
    "df_ev['Clean_Alternative_Fuel_Vehicle_Eligibility'].unique()"
   ]
  },
  {
   "cell_type": "markdown",
   "id": "dc7cf720",
   "metadata": {},
   "source": [
    "The categories are too long and can be stored as simplified category names. "
   ]
  },
  {
   "cell_type": "code",
   "execution_count": 47,
   "id": "9e4c4b83",
   "metadata": {},
   "outputs": [],
   "source": [
    "# change the category names to Eligible, Not eligible and Unknown\n",
    "replacement_dict = {\n",
    "    'Clean Alternative Fuel Vehicle Eligible': 'Eligible',\n",
    "    'Not eligible due to low battery range': 'Not Eligible',\n",
    "    'Eligibility unknown as battery range has not been researched': 'Unknown'\n",
    "}\n",
    "\n",
    "df_ev['Clean_Alternative_Fuel_Vehicle_Eligibility'] = df_ev['Clean_Alternative_Fuel_Vehicle_Eligibility'].replace(replacement_dict)\n"
   ]
  },
  {
   "cell_type": "code",
   "execution_count": 48,
   "id": "acfef9c8",
   "metadata": {},
   "outputs": [
    {
     "data": {
      "text/plain": [
       "Unknown         76587\n",
       "Eligible        63308\n",
       "Not Eligible    17858\n",
       "Name: Clean_Alternative_Fuel_Vehicle_Eligibility, dtype: int64"
      ]
     },
     "execution_count": 48,
     "metadata": {},
     "output_type": "execute_result"
    }
   ],
   "source": [
    "# distribution of Clean Alternative Fuel Vehicle Eligibility\n",
    "df_ev['Clean_Alternative_Fuel_Vehicle_Eligibility'].value_counts()"
   ]
  },
  {
   "cell_type": "code",
   "execution_count": 49,
   "id": "dbfcb448",
   "metadata": {},
   "outputs": [
    {
     "data": {
      "text/plain": [
       "349437882    1\n",
       "252716607    1\n",
       "476173533    1\n",
       "182180295    1\n",
       "147738629    1\n",
       "            ..\n",
       "266734422    1\n",
       "3601062      1\n",
       "240871053    1\n",
       "184917673    1\n",
       "208285619    1\n",
       "Name: DOL_Vehicle_ID, Length: 157753, dtype: int64"
      ]
     },
     "execution_count": 49,
     "metadata": {},
     "output_type": "execute_result"
    }
   ],
   "source": [
    "# Value counts of DOL vehicle ID\n",
    "df_ev['DOL_Vehicle_ID'].value_counts()"
   ]
  },
  {
   "cell_type": "markdown",
   "id": "f02793b1",
   "metadata": {},
   "source": [
    "It can be observed that the values in DOL_Vehicle_ID column are unique. hence this column can be used as index column to identify unique rows in the dataframe."
   ]
  },
  {
   "cell_type": "code",
   "execution_count": 50,
   "id": "e2eb69c7",
   "metadata": {},
   "outputs": [
    {
     "data": {
      "text/html": [
       "<div>\n",
       "<style scoped>\n",
       "    .dataframe tbody tr th:only-of-type {\n",
       "        vertical-align: middle;\n",
       "    }\n",
       "\n",
       "    .dataframe tbody tr th {\n",
       "        vertical-align: top;\n",
       "    }\n",
       "\n",
       "    .dataframe thead th {\n",
       "        text-align: right;\n",
       "    }\n",
       "</style>\n",
       "<table border=\"1\" class=\"dataframe\">\n",
       "  <thead>\n",
       "    <tr style=\"text-align: right;\">\n",
       "      <th></th>\n",
       "      <th>ID</th>\n",
       "      <th>VIN_1_10</th>\n",
       "      <th>County</th>\n",
       "      <th>City</th>\n",
       "      <th>State</th>\n",
       "      <th>Postal_Code</th>\n",
       "      <th>Model_Year</th>\n",
       "      <th>Make</th>\n",
       "      <th>Model</th>\n",
       "      <th>Electric_Vehicle_Type</th>\n",
       "      <th>Clean_Alternative_Fuel_Vehicle_Eligibility</th>\n",
       "      <th>Electric_Range</th>\n",
       "      <th>Base_MSRP</th>\n",
       "      <th>Legislative_District</th>\n",
       "      <th>Vehicle_Location</th>\n",
       "      <th>Electric_Utility</th>\n",
       "      <th>2020_Census_Tract</th>\n",
       "    </tr>\n",
       "    <tr>\n",
       "      <th>DOL_Vehicle_ID</th>\n",
       "      <th></th>\n",
       "      <th></th>\n",
       "      <th></th>\n",
       "      <th></th>\n",
       "      <th></th>\n",
       "      <th></th>\n",
       "      <th></th>\n",
       "      <th></th>\n",
       "      <th></th>\n",
       "      <th></th>\n",
       "      <th></th>\n",
       "      <th></th>\n",
       "      <th></th>\n",
       "      <th></th>\n",
       "      <th></th>\n",
       "      <th></th>\n",
       "      <th></th>\n",
       "    </tr>\n",
       "  </thead>\n",
       "  <tbody>\n",
       "    <tr>\n",
       "      <th>349437882</th>\n",
       "      <td>657f491acd22c48157c72218</td>\n",
       "      <td>2C4RC1N71H</td>\n",
       "      <td>Kitsap</td>\n",
       "      <td>Bremerton</td>\n",
       "      <td>Washington</td>\n",
       "      <td>98311</td>\n",
       "      <td>2017</td>\n",
       "      <td>CHRYSLER</td>\n",
       "      <td>PACIFICA</td>\n",
       "      <td>PHEV</td>\n",
       "      <td>Eligible</td>\n",
       "      <td>33.000000</td>\n",
       "      <td>39995.000000</td>\n",
       "      <td>23</td>\n",
       "      <td>POINT (-122.6466274 47.6341188)</td>\n",
       "      <td>PUGET SOUND ENERGY INC</td>\n",
       "      <td>53035091800</td>\n",
       "    </tr>\n",
       "    <tr>\n",
       "      <th>154690532</th>\n",
       "      <td>657f491acd22c48157c72219</td>\n",
       "      <td>2C4RC1N7XL</td>\n",
       "      <td>Stevens</td>\n",
       "      <td>Colville</td>\n",
       "      <td>Washington</td>\n",
       "      <td>99114</td>\n",
       "      <td>2020</td>\n",
       "      <td>CHRYSLER</td>\n",
       "      <td>PACIFICA</td>\n",
       "      <td>PHEV</td>\n",
       "      <td>Eligible</td>\n",
       "      <td>32.000000</td>\n",
       "      <td>39995.000000</td>\n",
       "      <td>7</td>\n",
       "      <td>POINT (-117.90431 48.547075)</td>\n",
       "      <td>AVISTA CORP</td>\n",
       "      <td>53065950500</td>\n",
       "    </tr>\n",
       "    <tr>\n",
       "      <th>219969144</th>\n",
       "      <td>657f491acd22c48157c7221a</td>\n",
       "      <td>KNDC3DLCXN</td>\n",
       "      <td>Yakima</td>\n",
       "      <td>Yakima</td>\n",
       "      <td>Washington</td>\n",
       "      <td>98908</td>\n",
       "      <td>2022</td>\n",
       "      <td>KIA</td>\n",
       "      <td>EV6</td>\n",
       "      <td>BEV</td>\n",
       "      <td>Unknown</td>\n",
       "      <td>89.102564</td>\n",
       "      <td>32257.855974</td>\n",
       "      <td>14</td>\n",
       "      <td>POINT (-120.6027202 46.5965625)</td>\n",
       "      <td>PACIFICORP</td>\n",
       "      <td>53077000904</td>\n",
       "    </tr>\n",
       "    <tr>\n",
       "      <th>476786887</th>\n",
       "      <td>657f491acd22c48157c7221b</td>\n",
       "      <td>5YJ3E1EA0J</td>\n",
       "      <td>Kitsap</td>\n",
       "      <td>Bainbridge Island</td>\n",
       "      <td>Washington</td>\n",
       "      <td>98110</td>\n",
       "      <td>2018</td>\n",
       "      <td>TESLA</td>\n",
       "      <td>MODEL 3</td>\n",
       "      <td>BEV</td>\n",
       "      <td>Eligible</td>\n",
       "      <td>215.000000</td>\n",
       "      <td>70159.303049</td>\n",
       "      <td>23</td>\n",
       "      <td>POINT (-122.5235781 47.6293323)</td>\n",
       "      <td>PUGET SOUND ENERGY INC</td>\n",
       "      <td>53035091001</td>\n",
       "    </tr>\n",
       "    <tr>\n",
       "      <th>201185253</th>\n",
       "      <td>657f491acd22c48157c7221c</td>\n",
       "      <td>1N4AZ1CP7J</td>\n",
       "      <td>Thurston</td>\n",
       "      <td>Tumwater</td>\n",
       "      <td>Washington</td>\n",
       "      <td>98501</td>\n",
       "      <td>2018</td>\n",
       "      <td>NISSAN</td>\n",
       "      <td>LEAF</td>\n",
       "      <td>BEV</td>\n",
       "      <td>Eligible</td>\n",
       "      <td>151.000000</td>\n",
       "      <td>65038.025692</td>\n",
       "      <td>35</td>\n",
       "      <td>POINT (-122.89692 47.043535)</td>\n",
       "      <td>PUGET SOUND ENERGY INC</td>\n",
       "      <td>53067011720</td>\n",
       "    </tr>\n",
       "  </tbody>\n",
       "</table>\n",
       "</div>"
      ],
      "text/plain": [
       "                                      ID    VIN_1_10    County  \\\n",
       "DOL_Vehicle_ID                                                   \n",
       "349437882       657f491acd22c48157c72218  2C4RC1N71H    Kitsap   \n",
       "154690532       657f491acd22c48157c72219  2C4RC1N7XL   Stevens   \n",
       "219969144       657f491acd22c48157c7221a  KNDC3DLCXN    Yakima   \n",
       "476786887       657f491acd22c48157c7221b  5YJ3E1EA0J    Kitsap   \n",
       "201185253       657f491acd22c48157c7221c  1N4AZ1CP7J  Thurston   \n",
       "\n",
       "                             City       State Postal_Code Model_Year  \\\n",
       "DOL_Vehicle_ID                                                         \n",
       "349437882               Bremerton  Washington       98311       2017   \n",
       "154690532                Colville  Washington       99114       2020   \n",
       "219969144                  Yakima  Washington       98908       2022   \n",
       "476786887       Bainbridge Island  Washington       98110       2018   \n",
       "201185253                Tumwater  Washington       98501       2018   \n",
       "\n",
       "                    Make     Model Electric_Vehicle_Type  \\\n",
       "DOL_Vehicle_ID                                             \n",
       "349437882       CHRYSLER  PACIFICA                  PHEV   \n",
       "154690532       CHRYSLER  PACIFICA                  PHEV   \n",
       "219969144            KIA       EV6                   BEV   \n",
       "476786887          TESLA   MODEL 3                   BEV   \n",
       "201185253         NISSAN      LEAF                   BEV   \n",
       "\n",
       "               Clean_Alternative_Fuel_Vehicle_Eligibility  Electric_Range  \\\n",
       "DOL_Vehicle_ID                                                              \n",
       "349437882                                        Eligible       33.000000   \n",
       "154690532                                        Eligible       32.000000   \n",
       "219969144                                         Unknown       89.102564   \n",
       "476786887                                        Eligible      215.000000   \n",
       "201185253                                        Eligible      151.000000   \n",
       "\n",
       "                   Base_MSRP Legislative_District  \\\n",
       "DOL_Vehicle_ID                                      \n",
       "349437882       39995.000000                   23   \n",
       "154690532       39995.000000                    7   \n",
       "219969144       32257.855974                   14   \n",
       "476786887       70159.303049                   23   \n",
       "201185253       65038.025692                   35   \n",
       "\n",
       "                               Vehicle_Location        Electric_Utility  \\\n",
       "DOL_Vehicle_ID                                                            \n",
       "349437882       POINT (-122.6466274 47.6341188)  PUGET SOUND ENERGY INC   \n",
       "154690532          POINT (-117.90431 48.547075)             AVISTA CORP   \n",
       "219969144       POINT (-120.6027202 46.5965625)              PACIFICORP   \n",
       "476786887       POINT (-122.5235781 47.6293323)  PUGET SOUND ENERGY INC   \n",
       "201185253          POINT (-122.89692 47.043535)  PUGET SOUND ENERGY INC   \n",
       "\n",
       "               2020_Census_Tract  \n",
       "DOL_Vehicle_ID                    \n",
       "349437882            53035091800  \n",
       "154690532            53065950500  \n",
       "219969144            53077000904  \n",
       "476786887            53035091001  \n",
       "201185253            53067011720  "
      ]
     },
     "execution_count": 50,
     "metadata": {},
     "output_type": "execute_result"
    }
   ],
   "source": [
    "# Set DOL_Vehicle_ID as index\n",
    "df_ev.set_index('DOL_Vehicle_ID', inplace=True)\n",
    "df_ev.head()"
   ]
  },
  {
   "cell_type": "markdown",
   "id": "e219c870",
   "metadata": {},
   "source": [
    "Lastly, not all the features in the dataframe are necessary for analysis of electric vehicle population. Hence we drop some columns."
   ]
  },
  {
   "cell_type": "code",
   "execution_count": 52,
   "id": "21b035bf",
   "metadata": {},
   "outputs": [
    {
     "data": {
      "text/html": [
       "<div>\n",
       "<style scoped>\n",
       "    .dataframe tbody tr th:only-of-type {\n",
       "        vertical-align: middle;\n",
       "    }\n",
       "\n",
       "    .dataframe tbody tr th {\n",
       "        vertical-align: top;\n",
       "    }\n",
       "\n",
       "    .dataframe thead th {\n",
       "        text-align: right;\n",
       "    }\n",
       "</style>\n",
       "<table border=\"1\" class=\"dataframe\">\n",
       "  <thead>\n",
       "    <tr style=\"text-align: right;\">\n",
       "      <th></th>\n",
       "      <th>County</th>\n",
       "      <th>City</th>\n",
       "      <th>State</th>\n",
       "      <th>Model_Year</th>\n",
       "      <th>Make</th>\n",
       "      <th>Model</th>\n",
       "      <th>Electric_Vehicle_Type</th>\n",
       "      <th>Clean_Alternative_Fuel_Vehicle_Eligibility</th>\n",
       "      <th>Electric_Range</th>\n",
       "      <th>Base_MSRP</th>\n",
       "      <th>Vehicle_Location</th>\n",
       "    </tr>\n",
       "    <tr>\n",
       "      <th>DOL_Vehicle_ID</th>\n",
       "      <th></th>\n",
       "      <th></th>\n",
       "      <th></th>\n",
       "      <th></th>\n",
       "      <th></th>\n",
       "      <th></th>\n",
       "      <th></th>\n",
       "      <th></th>\n",
       "      <th></th>\n",
       "      <th></th>\n",
       "      <th></th>\n",
       "    </tr>\n",
       "  </thead>\n",
       "  <tbody>\n",
       "    <tr>\n",
       "      <th>349437882</th>\n",
       "      <td>Kitsap</td>\n",
       "      <td>Bremerton</td>\n",
       "      <td>Washington</td>\n",
       "      <td>2017</td>\n",
       "      <td>CHRYSLER</td>\n",
       "      <td>PACIFICA</td>\n",
       "      <td>PHEV</td>\n",
       "      <td>Eligible</td>\n",
       "      <td>33.000000</td>\n",
       "      <td>39995.000000</td>\n",
       "      <td>POINT (-122.6466274 47.6341188)</td>\n",
       "    </tr>\n",
       "    <tr>\n",
       "      <th>154690532</th>\n",
       "      <td>Stevens</td>\n",
       "      <td>Colville</td>\n",
       "      <td>Washington</td>\n",
       "      <td>2020</td>\n",
       "      <td>CHRYSLER</td>\n",
       "      <td>PACIFICA</td>\n",
       "      <td>PHEV</td>\n",
       "      <td>Eligible</td>\n",
       "      <td>32.000000</td>\n",
       "      <td>39995.000000</td>\n",
       "      <td>POINT (-117.90431 48.547075)</td>\n",
       "    </tr>\n",
       "    <tr>\n",
       "      <th>219969144</th>\n",
       "      <td>Yakima</td>\n",
       "      <td>Yakima</td>\n",
       "      <td>Washington</td>\n",
       "      <td>2022</td>\n",
       "      <td>KIA</td>\n",
       "      <td>EV6</td>\n",
       "      <td>BEV</td>\n",
       "      <td>Unknown</td>\n",
       "      <td>89.102564</td>\n",
       "      <td>32257.855974</td>\n",
       "      <td>POINT (-120.6027202 46.5965625)</td>\n",
       "    </tr>\n",
       "    <tr>\n",
       "      <th>476786887</th>\n",
       "      <td>Kitsap</td>\n",
       "      <td>Bainbridge Island</td>\n",
       "      <td>Washington</td>\n",
       "      <td>2018</td>\n",
       "      <td>TESLA</td>\n",
       "      <td>MODEL 3</td>\n",
       "      <td>BEV</td>\n",
       "      <td>Eligible</td>\n",
       "      <td>215.000000</td>\n",
       "      <td>70159.303049</td>\n",
       "      <td>POINT (-122.5235781 47.6293323)</td>\n",
       "    </tr>\n",
       "    <tr>\n",
       "      <th>201185253</th>\n",
       "      <td>Thurston</td>\n",
       "      <td>Tumwater</td>\n",
       "      <td>Washington</td>\n",
       "      <td>2018</td>\n",
       "      <td>NISSAN</td>\n",
       "      <td>LEAF</td>\n",
       "      <td>BEV</td>\n",
       "      <td>Eligible</td>\n",
       "      <td>151.000000</td>\n",
       "      <td>65038.025692</td>\n",
       "      <td>POINT (-122.89692 47.043535)</td>\n",
       "    </tr>\n",
       "  </tbody>\n",
       "</table>\n",
       "</div>"
      ],
      "text/plain": [
       "                  County               City       State Model_Year      Make  \\\n",
       "DOL_Vehicle_ID                                                                 \n",
       "349437882         Kitsap          Bremerton  Washington       2017  CHRYSLER   \n",
       "154690532        Stevens           Colville  Washington       2020  CHRYSLER   \n",
       "219969144         Yakima             Yakima  Washington       2022       KIA   \n",
       "476786887         Kitsap  Bainbridge Island  Washington       2018     TESLA   \n",
       "201185253       Thurston           Tumwater  Washington       2018    NISSAN   \n",
       "\n",
       "                   Model Electric_Vehicle_Type  \\\n",
       "DOL_Vehicle_ID                                   \n",
       "349437882       PACIFICA                  PHEV   \n",
       "154690532       PACIFICA                  PHEV   \n",
       "219969144            EV6                   BEV   \n",
       "476786887        MODEL 3                   BEV   \n",
       "201185253           LEAF                   BEV   \n",
       "\n",
       "               Clean_Alternative_Fuel_Vehicle_Eligibility  Electric_Range  \\\n",
       "DOL_Vehicle_ID                                                              \n",
       "349437882                                        Eligible       33.000000   \n",
       "154690532                                        Eligible       32.000000   \n",
       "219969144                                         Unknown       89.102564   \n",
       "476786887                                        Eligible      215.000000   \n",
       "201185253                                        Eligible      151.000000   \n",
       "\n",
       "                   Base_MSRP                 Vehicle_Location  \n",
       "DOL_Vehicle_ID                                                 \n",
       "349437882       39995.000000  POINT (-122.6466274 47.6341188)  \n",
       "154690532       39995.000000     POINT (-117.90431 48.547075)  \n",
       "219969144       32257.855974  POINT (-120.6027202 46.5965625)  \n",
       "476786887       70159.303049  POINT (-122.5235781 47.6293323)  \n",
       "201185253       65038.025692     POINT (-122.89692 47.043535)  "
      ]
     },
     "execution_count": 52,
     "metadata": {},
     "output_type": "execute_result"
    }
   ],
   "source": [
    "# drop columns not necessary for analysis\n",
    "df_ev_processed = df_ev.drop(['ID', 'VIN_1_10', 'Postal_Code', 'Legislative_District', 'Electric_Utility', '2020_Census_Tract'], axis=1)\n",
    "df_ev_processed.head()"
   ]
  },
  {
   "cell_type": "code",
   "execution_count": 53,
   "id": "32946ac2",
   "metadata": {},
   "outputs": [
    {
     "data": {
      "text/plain": [
       "Index(['County', 'City', 'State', 'Model_Year', 'Make', 'Model',\n",
       "       'Electric_Vehicle_Type', 'Clean_Alternative_Fuel_Vehicle_Eligibility',\n",
       "       'Electric_Range', 'Base_MSRP', 'Vehicle_Location'],\n",
       "      dtype='object')"
      ]
     },
     "execution_count": 53,
     "metadata": {},
     "output_type": "execute_result"
    }
   ],
   "source": [
    "# Check for columns in the processed dataframe\n",
    "df_ev_processed.columns"
   ]
  }
 ],
 "metadata": {
  "kernelspec": {
   "display_name": "Python 3 (ipykernel)",
   "language": "python",
   "name": "python3"
  },
  "language_info": {
   "codemirror_mode": {
    "name": "ipython",
    "version": 3
   },
   "file_extension": ".py",
   "mimetype": "text/x-python",
   "name": "python",
   "nbconvert_exporter": "python",
   "pygments_lexer": "ipython3",
   "version": "3.11.4"
  }
 },
 "nbformat": 4,
 "nbformat_minor": 5
}
