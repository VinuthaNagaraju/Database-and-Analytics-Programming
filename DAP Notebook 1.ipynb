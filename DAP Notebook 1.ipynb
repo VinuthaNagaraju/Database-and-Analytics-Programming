{
 "cells": [
  {
   "cell_type": "code",
   "execution_count": 1,
   "id": "3afd0205",
   "metadata": {},
   "outputs": [],
   "source": [
    "import pandas as pd\n",
    "import xml.etree.ElementTree as ET\n",
    "from pymongo import MongoClient\n",
    "import json"
   ]
  },
  {
   "cell_type": "code",
   "execution_count": 2,
   "id": "0cd9bb90",
   "metadata": {},
   "outputs": [],
   "source": [
    "file_path = 'Electric_Vehicle_Population_Data.xml'\n",
    "\n",
    "def read_xml_to_df(file_path):\n",
    "    # Parse XML data and get root element\n",
    "    tree = ET.parse(file_path)\n",
    "    root = tree.getroot()\n",
    "    \n",
    "    data = []\n",
    "    # find the row element which is nested inside another row element\n",
    "    for outer_row_element in root.findall('.//row'):\n",
    "        row_data = {}\n",
    "        for inner_row_element in outer_row_element.findall('.//row'):\n",
    "            for child_element in inner_row_element:\n",
    "                row_data[child_element.tag] = child_element.text\n",
    "            data.append(row_data.copy())\n",
    "\n",
    "    # Convert the data into dataframe\n",
    "    return pd.DataFrame(data)\n",
    "\n",
    "df = read_xml_to_df(file_path)"
   ]
  },
  {
   "cell_type": "code",
   "execution_count": 4,
   "id": "799085e7",
   "metadata": {},
   "outputs": [
    {
     "name": "stdout",
     "output_type": "stream",
     "text": [
      "Data inserted successfully\n"
     ]
    }
   ],
   "source": [
    "# function to insert the data into mongo db\n",
    "def insert_to_mongoDB(url, dataframe, database, collection):\n",
    "\n",
    "    client = MongoClient(url)\n",
    "\n",
    "    db = client[database]\n",
    "    collection = db[collection]\n",
    "\n",
    "    # Convert DataFrame to JSON\n",
    "    json_data = dataframe.to_json(orient='records')\n",
    "\n",
    "    # Insert Data into MongoDB\n",
    "    data = json.loads(json_data)\n",
    "    result = collection.insert_many(data)\n",
    "\n",
    "    # Print confirmation\n",
    "    if result.inserted_ids:\n",
    "        print(f\"Data inserted successfully\")\n",
    "    else:\n",
    "        print(\"Failed to insert data\")\n",
    "\n",
    "mongo_url = 'mongodb://localhost:27017/'\n",
    "database = 'Washington_State_Department_of_Licensing'\n",
    "collection = 'Electric_Vehicle_Population'\n",
    "insert_to_mongoDB(mongo_url, df, database, collection)"
   ]
  }
 ],
 "metadata": {
  "kernelspec": {
   "display_name": "Python 3 (ipykernel)",
   "language": "python",
   "name": "python3"
  },
  "language_info": {
   "codemirror_mode": {
    "name": "ipython",
    "version": 3
   },
   "file_extension": ".py",
   "mimetype": "text/x-python",
   "name": "python",
   "nbconvert_exporter": "python",
   "pygments_lexer": "ipython3",
   "version": "3.11.4"
  }
 },
 "nbformat": 4,
 "nbformat_minor": 5
}
