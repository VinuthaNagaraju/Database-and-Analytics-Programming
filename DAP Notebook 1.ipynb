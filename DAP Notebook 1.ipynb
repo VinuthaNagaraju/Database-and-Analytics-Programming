{
 "cells": [
  {
   "cell_type": "markdown",
   "id": "01547976",
   "metadata": {},
   "source": [
    "# Index\n",
    "- [Storing data to MongoDB](#storing_data_to_mongodb)\n",
    "- [Reading data from MongoDB](#reading_from_mongodb)\n",
    "- [Exploratory Data Analysis](#exploratory_data_analysis)\n",
    "- [Data Pre-processing](#data_Pre-processing)\n",
    "- [Store and retrieve data through postgres](#store_and_retrieve_data_through_postgres)\n",
    "- [Data Visualization](#data_visualization)"
   ]
  },
  {
   "cell_type": "markdown",
   "id": "71777e2a",
   "metadata": {},
   "source": [
    "### Importing Libraries "
   ]
  },
  {
   "cell_type": "code",
   "execution_count": 1,
   "id": "b5ae76d0",
   "metadata": {},
   "outputs": [],
   "source": [
    "import pandas as pd\n",
    "import xml.etree.ElementTree as ET\n",
    "from pymongo import MongoClient\n",
    "import json\n",
    "import matplotlib.pyplot as plt\n",
    "import seaborn as sns\n",
    "import plotly.express as px\n",
    "import geopandas as gpd\n",
    "import sqlalchemy as db"
   ]
  },
  {
   "cell_type": "code",
   "execution_count": 2,
   "id": "c5c4914c",
   "metadata": {},
   "outputs": [],
   "source": [
    "import warnings\n",
    "warnings.filterwarnings('ignore')"
   ]
  },
  {
   "cell_type": "markdown",
   "id": "39e105f6",
   "metadata": {},
   "source": [
    "<a id = \"storing_data_to_mongodb\"></a>\n",
    "\n",
    "## Storing data to MongoDB"
   ]
  },
  {
   "cell_type": "code",
   "execution_count": 3,
   "id": "0cd9bb90",
   "metadata": {},
   "outputs": [],
   "source": [
    "def read_xml_to_df(file_path):\n",
    "    # Parse XML data and get root element\n",
    "    tree = ET.parse(file_path)\n",
    "    root = tree.getroot()\n",
    "    \n",
    "    data = []\n",
    "    # find the row element which is nested inside another row element\n",
    "    for outer_row_element in root.findall('.//row'):\n",
    "        row_data = {}\n",
    "        for inner_row_element in outer_row_element.findall('.//row'):\n",
    "            for child_element in inner_row_element:\n",
    "                row_data[child_element.tag] = child_element.text\n",
    "            data.append(row_data.copy())\n",
    "\n",
    "    # Convert the data into dataframe\n",
    "    return pd.DataFrame(data)\n",
    "\n"
   ]
  },
  {
   "cell_type": "code",
   "execution_count": 4,
   "id": "963d08d1",
   "metadata": {},
   "outputs": [],
   "source": [
    "file_path1 = 'Electric Vehicle Population.xml'\n",
    "file_path2= 'Green House gases data.xml'"
   ]
  },
  {
   "cell_type": "code",
   "execution_count": 5,
   "id": "403d2182",
   "metadata": {},
   "outputs": [],
   "source": [
    "df1 = read_xml_to_df(file_path1)\n",
    "df2 = read_xml_to_df(file_path2)"
   ]
  },
  {
   "cell_type": "code",
   "execution_count": 6,
   "id": "799085e7",
   "metadata": {},
   "outputs": [],
   "source": [
    "# function to insert the data into mongo db\n",
    "def insert_to_mongoDB(url, dataframe, database, collection):\n",
    "\n",
    "    client = MongoClient(url)\n",
    "\n",
    "    db = client[database]\n",
    "    collection = db[collection]\n",
    "\n",
    "    # Convert DataFrame to JSON\n",
    "    json_data = dataframe.to_json(orient='records')\n",
    "\n",
    "    # Insert Data into MongoDB\n",
    "    data = json.loads(json_data)\n",
    "    result = collection.insert_many(data)\n",
    "\n",
    "    # Print confirmation\n",
    "    if result.inserted_ids:\n",
    "        print(f\"Data inserted successfully\")\n",
    "    else:\n",
    "        print(\"Failed to insert data\")\n",
    "\n"
   ]
  },
  {
   "cell_type": "code",
   "execution_count": 7,
   "id": "f656562c",
   "metadata": {},
   "outputs": [
    {
     "name": "stdout",
     "output_type": "stream",
     "text": [
      "Data inserted successfully\n",
      "Data inserted successfully\n"
     ]
    }
   ],
   "source": [
    "mongo_url = 'mongodb://localhost:27017/'\n",
    "database = 'Washington_State_Department_of_Licensing'\n",
    "collection1 = 'Electric_Vehicle_Population'\n",
    "collection2 = 'Green_House_Gases_Emission'\n",
    "insert_to_mongoDB(mongo_url, df1, database, collection1)\n",
    "insert_to_mongoDB(mongo_url, df2, database, collection2)"
   ]
  },
  {
   "cell_type": "markdown",
   "id": "4cda70ff",
   "metadata": {},
   "source": [
    "<a id = \"reading_from_mongodb\"></a>\n",
    "\n",
    "## Reading data from MongoDB"
   ]
  },
  {
   "cell_type": "markdown",
   "id": "4b3f0091",
   "metadata": {},
   "source": [
    "#### Data is stored in MongoDB. The following function is to retrive data from MongoDB into a dataframe using pandas"
   ]
  },
  {
   "cell_type": "code",
   "execution_count": 8,
   "id": "d9914ffc",
   "metadata": {},
   "outputs": [],
   "source": [
    "# function to retrieve data from mongo db\n",
    "def retrive_from_mongoDB(url, database, collection):\n",
    "    client = MongoClient(url) \n",
    "    db = client[database]\n",
    "    collection = db[collection]\n",
    "    \n",
    "    # Retrieve data from MongoDB\n",
    "    cursor = collection.find({})\n",
    "    data = list(cursor)\n",
    "    return pd.DataFrame(data)\n",
    "\n",
    "# Read data from MongoDB \n",
    "df_ev = retrive_from_mongoDB(mongo_url, database, collection1)\n",
    "df_GHG = retrive_from_mongoDB(mongo_url, database, collection2)\n"
   ]
  },
  {
   "cell_type": "markdown",
   "id": "ec0bf0bc",
   "metadata": {},
   "source": [
    "<a id = \"exploratory_data_analysis\"></a>\n",
    "## Exploratory data analysis"
   ]
  },
  {
   "cell_type": "markdown",
   "id": "bb39712a",
   "metadata": {},
   "source": [
    "#### ELectric Vehicle Population"
   ]
  },
  {
   "cell_type": "code",
   "execution_count": 9,
   "id": "e3fd772a",
   "metadata": {},
   "outputs": [
    {
     "data": {
      "text/html": [
       "<div>\n",
       "<style scoped>\n",
       "    .dataframe tbody tr th:only-of-type {\n",
       "        vertical-align: middle;\n",
       "    }\n",
       "\n",
       "    .dataframe tbody tr th {\n",
       "        vertical-align: top;\n",
       "    }\n",
       "\n",
       "    .dataframe thead th {\n",
       "        text-align: right;\n",
       "    }\n",
       "</style>\n",
       "<table border=\"1\" class=\"dataframe\">\n",
       "  <thead>\n",
       "    <tr style=\"text-align: right;\">\n",
       "      <th></th>\n",
       "      <th>_id</th>\n",
       "      <th>vin_1_10</th>\n",
       "      <th>county</th>\n",
       "      <th>city</th>\n",
       "      <th>state</th>\n",
       "      <th>zip_code</th>\n",
       "      <th>model_year</th>\n",
       "      <th>make</th>\n",
       "      <th>model</th>\n",
       "      <th>ev_type</th>\n",
       "      <th>cafv_type</th>\n",
       "      <th>electric_range</th>\n",
       "      <th>base_msrp</th>\n",
       "      <th>legislative_district</th>\n",
       "      <th>dol_vehicle_id</th>\n",
       "      <th>geocoded_column</th>\n",
       "      <th>electric_utility</th>\n",
       "      <th>_2020_census_tract</th>\n",
       "    </tr>\n",
       "  </thead>\n",
       "  <tbody>\n",
       "    <tr>\n",
       "      <th>0</th>\n",
       "      <td>657f491acd22c48157c72218</td>\n",
       "      <td>2C4RC1N71H</td>\n",
       "      <td>Kitsap</td>\n",
       "      <td>Bremerton</td>\n",
       "      <td>WA</td>\n",
       "      <td>98311</td>\n",
       "      <td>2017</td>\n",
       "      <td>CHRYSLER</td>\n",
       "      <td>PACIFICA</td>\n",
       "      <td>Plug-in Hybrid Electric Vehicle (PHEV)</td>\n",
       "      <td>Clean Alternative Fuel Vehicle Eligible</td>\n",
       "      <td>33</td>\n",
       "      <td>0</td>\n",
       "      <td>23</td>\n",
       "      <td>349437882</td>\n",
       "      <td>POINT (-122.6466274 47.6341188)</td>\n",
       "      <td>PUGET SOUND ENERGY INC</td>\n",
       "      <td>53035091800</td>\n",
       "    </tr>\n",
       "    <tr>\n",
       "      <th>1</th>\n",
       "      <td>657f491acd22c48157c72219</td>\n",
       "      <td>2C4RC1N7XL</td>\n",
       "      <td>Stevens</td>\n",
       "      <td>Colville</td>\n",
       "      <td>WA</td>\n",
       "      <td>99114</td>\n",
       "      <td>2020</td>\n",
       "      <td>CHRYSLER</td>\n",
       "      <td>PACIFICA</td>\n",
       "      <td>Plug-in Hybrid Electric Vehicle (PHEV)</td>\n",
       "      <td>Clean Alternative Fuel Vehicle Eligible</td>\n",
       "      <td>32</td>\n",
       "      <td>0</td>\n",
       "      <td>7</td>\n",
       "      <td>154690532</td>\n",
       "      <td>POINT (-117.90431 48.547075)</td>\n",
       "      <td>AVISTA CORP</td>\n",
       "      <td>53065950500</td>\n",
       "    </tr>\n",
       "    <tr>\n",
       "      <th>2</th>\n",
       "      <td>657f491acd22c48157c7221a</td>\n",
       "      <td>KNDC3DLCXN</td>\n",
       "      <td>Yakima</td>\n",
       "      <td>Yakima</td>\n",
       "      <td>WA</td>\n",
       "      <td>98908</td>\n",
       "      <td>2022</td>\n",
       "      <td>KIA</td>\n",
       "      <td>EV6</td>\n",
       "      <td>Battery Electric Vehicle (BEV)</td>\n",
       "      <td>Eligibility unknown as battery range has not b...</td>\n",
       "      <td>0</td>\n",
       "      <td>0</td>\n",
       "      <td>14</td>\n",
       "      <td>219969144</td>\n",
       "      <td>POINT (-120.6027202 46.5965625)</td>\n",
       "      <td>PACIFICORP</td>\n",
       "      <td>53077000904</td>\n",
       "    </tr>\n",
       "    <tr>\n",
       "      <th>3</th>\n",
       "      <td>657f491acd22c48157c7221b</td>\n",
       "      <td>5YJ3E1EA0J</td>\n",
       "      <td>Kitsap</td>\n",
       "      <td>Bainbridge Island</td>\n",
       "      <td>WA</td>\n",
       "      <td>98110</td>\n",
       "      <td>2018</td>\n",
       "      <td>TESLA</td>\n",
       "      <td>MODEL 3</td>\n",
       "      <td>Battery Electric Vehicle (BEV)</td>\n",
       "      <td>Clean Alternative Fuel Vehicle Eligible</td>\n",
       "      <td>215</td>\n",
       "      <td>0</td>\n",
       "      <td>23</td>\n",
       "      <td>476786887</td>\n",
       "      <td>POINT (-122.5235781 47.6293323)</td>\n",
       "      <td>PUGET SOUND ENERGY INC</td>\n",
       "      <td>53035091001</td>\n",
       "    </tr>\n",
       "    <tr>\n",
       "      <th>4</th>\n",
       "      <td>657f491acd22c48157c7221c</td>\n",
       "      <td>1N4AZ1CP7J</td>\n",
       "      <td>Thurston</td>\n",
       "      <td>Tumwater</td>\n",
       "      <td>WA</td>\n",
       "      <td>98501</td>\n",
       "      <td>2018</td>\n",
       "      <td>NISSAN</td>\n",
       "      <td>LEAF</td>\n",
       "      <td>Battery Electric Vehicle (BEV)</td>\n",
       "      <td>Clean Alternative Fuel Vehicle Eligible</td>\n",
       "      <td>151</td>\n",
       "      <td>0</td>\n",
       "      <td>35</td>\n",
       "      <td>201185253</td>\n",
       "      <td>POINT (-122.89692 47.043535)</td>\n",
       "      <td>PUGET SOUND ENERGY INC</td>\n",
       "      <td>53067011720</td>\n",
       "    </tr>\n",
       "  </tbody>\n",
       "</table>\n",
       "</div>"
      ],
      "text/plain": [
       "                        _id    vin_1_10    county               city state  \\\n",
       "0  657f491acd22c48157c72218  2C4RC1N71H    Kitsap          Bremerton    WA   \n",
       "1  657f491acd22c48157c72219  2C4RC1N7XL   Stevens           Colville    WA   \n",
       "2  657f491acd22c48157c7221a  KNDC3DLCXN    Yakima             Yakima    WA   \n",
       "3  657f491acd22c48157c7221b  5YJ3E1EA0J    Kitsap  Bainbridge Island    WA   \n",
       "4  657f491acd22c48157c7221c  1N4AZ1CP7J  Thurston           Tumwater    WA   \n",
       "\n",
       "  zip_code model_year      make     model  \\\n",
       "0    98311       2017  CHRYSLER  PACIFICA   \n",
       "1    99114       2020  CHRYSLER  PACIFICA   \n",
       "2    98908       2022       KIA       EV6   \n",
       "3    98110       2018     TESLA   MODEL 3   \n",
       "4    98501       2018    NISSAN      LEAF   \n",
       "\n",
       "                                  ev_type  \\\n",
       "0  Plug-in Hybrid Electric Vehicle (PHEV)   \n",
       "1  Plug-in Hybrid Electric Vehicle (PHEV)   \n",
       "2          Battery Electric Vehicle (BEV)   \n",
       "3          Battery Electric Vehicle (BEV)   \n",
       "4          Battery Electric Vehicle (BEV)   \n",
       "\n",
       "                                           cafv_type electric_range base_msrp  \\\n",
       "0            Clean Alternative Fuel Vehicle Eligible             33         0   \n",
       "1            Clean Alternative Fuel Vehicle Eligible             32         0   \n",
       "2  Eligibility unknown as battery range has not b...              0         0   \n",
       "3            Clean Alternative Fuel Vehicle Eligible            215         0   \n",
       "4            Clean Alternative Fuel Vehicle Eligible            151         0   \n",
       "\n",
       "  legislative_district dol_vehicle_id                  geocoded_column  \\\n",
       "0                   23      349437882  POINT (-122.6466274 47.6341188)   \n",
       "1                    7      154690532     POINT (-117.90431 48.547075)   \n",
       "2                   14      219969144  POINT (-120.6027202 46.5965625)   \n",
       "3                   23      476786887  POINT (-122.5235781 47.6293323)   \n",
       "4                   35      201185253     POINT (-122.89692 47.043535)   \n",
       "\n",
       "         electric_utility _2020_census_tract  \n",
       "0  PUGET SOUND ENERGY INC        53035091800  \n",
       "1             AVISTA CORP        53065950500  \n",
       "2              PACIFICORP        53077000904  \n",
       "3  PUGET SOUND ENERGY INC        53035091001  \n",
       "4  PUGET SOUND ENERGY INC        53067011720  "
      ]
     },
     "execution_count": 9,
     "metadata": {},
     "output_type": "execute_result"
    }
   ],
   "source": [
    "# check the top rows for a general understanding of the dataframe\n",
    "df_ev.head()"
   ]
  },
  {
   "cell_type": "code",
   "execution_count": 10,
   "id": "e53c8871",
   "metadata": {},
   "outputs": [
    {
     "name": "stdout",
     "output_type": "stream",
     "text": [
      "Number of rows:  159467\n",
      "Number of columns:  18\n"
     ]
    }
   ],
   "source": [
    "# check the number of rows and columns in the dataframe\n",
    "rows, columns = df_ev.shape\n",
    "print('Number of rows: ', rows)\n",
    "print('Number of columns: ', columns)"
   ]
  },
  {
   "cell_type": "code",
   "execution_count": 11,
   "id": "8098d208",
   "metadata": {},
   "outputs": [
    {
     "data": {
      "text/plain": [
       "Index(['_id', 'vin_1_10', 'county', 'city', 'state', 'zip_code', 'model_year',\n",
       "       'make', 'model', 'ev_type', 'cafv_type', 'electric_range', 'base_msrp',\n",
       "       'legislative_district', 'dol_vehicle_id', 'geocoded_column',\n",
       "       'electric_utility', '_2020_census_tract'],\n",
       "      dtype='object')"
      ]
     },
     "execution_count": 11,
     "metadata": {},
     "output_type": "execute_result"
    }
   ],
   "source": [
    "# check the columns in the dataframe\n",
    "df_ev.columns"
   ]
  },
  {
   "cell_type": "code",
   "execution_count": 12,
   "id": "5f61f84c",
   "metadata": {},
   "outputs": [
    {
     "name": "stdout",
     "output_type": "stream",
     "text": [
      "<class 'pandas.core.frame.DataFrame'>\n",
      "RangeIndex: 159467 entries, 0 to 159466\n",
      "Data columns (total 18 columns):\n",
      " #   Column                Non-Null Count   Dtype \n",
      "---  ------                --------------   ----- \n",
      " 0   _id                   159467 non-null  object\n",
      " 1   vin_1_10              159467 non-null  object\n",
      " 2   county                159467 non-null  object\n",
      " 3   city                  159467 non-null  object\n",
      " 4   state                 159467 non-null  object\n",
      " 5   zip_code              159467 non-null  object\n",
      " 6   model_year            159467 non-null  object\n",
      " 7   make                  159467 non-null  object\n",
      " 8   model                 159467 non-null  object\n",
      " 9   ev_type               159467 non-null  object\n",
      " 10  cafv_type             159467 non-null  object\n",
      " 11  electric_range        159467 non-null  object\n",
      " 12  base_msrp             159467 non-null  object\n",
      " 13  legislative_district  159467 non-null  object\n",
      " 14  dol_vehicle_id        159467 non-null  object\n",
      " 15  geocoded_column       159467 non-null  object\n",
      " 16  electric_utility      159467 non-null  object\n",
      " 17  _2020_census_tract    159467 non-null  object\n",
      "dtypes: object(18)\n",
      "memory usage: 21.9+ MB\n"
     ]
    }
   ],
   "source": [
    "# check the info to understand the datatypes and non-null counts of each feature\n",
    "df_ev.info()"
   ]
  },
  {
   "cell_type": "code",
   "execution_count": 13,
   "id": "7d85aa53",
   "metadata": {},
   "outputs": [
    {
     "data": {
      "image/png": "[encoded data removed]",
      "text/plain": [
       "<Figure size 1000x600 with 1 Axes>"
      ]
     },
     "metadata": {},
     "output_type": "display_data"
    }
   ],
   "source": [
    "# check for missing values in the dataframe using a heatmap\n",
    "plt.figure(figsize=(10, 6))\n",
    "sns.heatmap(df_ev.isnull(), cmap='coolwarm', cbar=False, yticklabels=False)\n",
    "plt.title('Heatmap of Missing Values')\n",
    "plt.show()"
   ]
  },
  {
   "cell_type": "markdown",
   "id": "b61b7aa5",
   "metadata": {},
   "source": [
    "There does not seem to be missing values in any features. It can be confirmed by printing the sum of rows with missing values for all the features."
   ]
  },
  {
   "cell_type": "code",
   "execution_count": 14,
   "id": "fcada8e0",
   "metadata": {},
   "outputs": [
    {
     "data": {
      "text/plain": [
       "_id                     0\n",
       "vin_1_10                0\n",
       "county                  0\n",
       "city                    0\n",
       "state                   0\n",
       "zip_code                0\n",
       "model_year              0\n",
       "make                    0\n",
       "model                   0\n",
       "ev_type                 0\n",
       "cafv_type               0\n",
       "electric_range          0\n",
       "base_msrp               0\n",
       "legislative_district    0\n",
       "dol_vehicle_id          0\n",
       "geocoded_column         0\n",
       "electric_utility        0\n",
       "_2020_census_tract      0\n",
       "dtype: int64"
      ]
     },
     "execution_count": 14,
     "metadata": {},
     "output_type": "execute_result"
    }
   ],
   "source": [
    "# check for missing values\n",
    "df_ev.isnull().sum()"
   ]
  },
  {
   "cell_type": "code",
   "execution_count": 15,
   "id": "15f944a5",
   "metadata": {},
   "outputs": [
    {
     "data": {
      "text/plain": [
       "0"
      ]
     },
     "execution_count": 15,
     "metadata": {},
     "output_type": "execute_result"
    }
   ],
   "source": [
    "# check for any duplicate rows in the dataframe\n",
    "df_ev.duplicated().sum()"
   ]
  },
  {
   "cell_type": "markdown",
   "id": "76cd83c6",
   "metadata": {},
   "source": [
    "There are no missing values or duplicates in the dataframe."
   ]
  }
 ],
 "metadata": {
  "kernelspec": {
   "display_name": "Python 3 (ipykernel)",
   "language": "python",
   "name": "python3"
  },
  "language_info": {
   "codemirror_mode": {
    "name": "ipython",
    "version": 3
   },
   "file_extension": ".py",
   "mimetype": "text/x-python",
   "name": "python",
   "nbconvert_exporter": "python",
   "pygments_lexer": "ipython3",
   "version": "3.11.4"
  }
 },
 "nbformat": 4,
 "nbformat_minor": 5
}
