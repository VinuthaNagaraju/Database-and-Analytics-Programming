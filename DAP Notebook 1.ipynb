{
 "cells": [
  {
   "cell_type": "markdown",
   "id": "01547976",
   "metadata": {},
   "source": [
    "# Index\n",
    "- [Storing data to MongoDB](#storing_data_to_mongodb)\n",
    "- [Reading data from MongoDB](#reading_from_mongodb)\n",
    "- [Exploratory Data Analysis](#exploratory_data_analysis)\n",
    "- [Data Pre-processing](#data_Pre-processing)\n",
    "- [Store and retrieve data through postgres](#store_and_retrieve_data_through_postgres)\n",
    "- [Data Visualization](#data_visualization)"
   ]
  },
  {
   "cell_type": "markdown",
   "id": "71777e2a",
   "metadata": {},
   "source": [
    "### Importing Libraries "
   ]
  },
  {
   "cell_type": "code",
   "execution_count": 1,
   "id": "b5ae76d0",
   "metadata": {},
   "outputs": [],
   "source": [
    "import pandas as pd\n",
    "import xml.etree.ElementTree as ET\n",
    "from pymongo import MongoClient\n",
    "import json\n",
    "import matplotlib.pyplot as plt\n",
    "import seaborn as sns\n",
    "import plotly.express as px\n",
    "import geopandas as gpd\n",
    "import sqlalchemy as db"
   ]
  },
  {
   "cell_type": "code",
   "execution_count": 2,
   "id": "c5c4914c",
   "metadata": {},
   "outputs": [],
   "source": [
    "import warnings\n",
    "warnings.filterwarnings('ignore')"
   ]
  },
  {
   "cell_type": "markdown",
   "id": "39e105f6",
   "metadata": {},
   "source": [
    "<a id = \"storing_data_to_mongodb\"></a>\n",
    "\n",
    "## Storing data to MongoDB"
   ]
  },
  {
   "cell_type": "code",
   "execution_count": 3,
   "id": "0cd9bb90",
   "metadata": {},
   "outputs": [],
   "source": [
    "def read_xml_to_df(file_path):\n",
    "    # Parse XML data and get root element\n",
    "    tree = ET.parse(file_path)\n",
    "    root = tree.getroot()\n",
    "    \n",
    "    data = []\n",
    "    # find the row element which is nested inside another row element\n",
    "    for outer_row_element in root.findall('.//row'):\n",
    "        row_data = {}\n",
    "        for inner_row_element in outer_row_element.findall('.//row'):\n",
    "            for child_element in inner_row_element:\n",
    "                row_data[child_element.tag] = child_element.text\n",
    "            data.append(row_data.copy())\n",
    "\n",
    "    # Convert the data into dataframe\n",
    "    return pd.DataFrame(data)\n",
    "\n"
   ]
  },
  {
   "cell_type": "code",
   "execution_count": 4,
   "id": "963d08d1",
   "metadata": {},
   "outputs": [],
   "source": [
    "file_path1 = 'Electric Vehicle Population.xml'\n",
    "file_path2= 'Green House gases data.xml'"
   ]
  },
  {
   "cell_type": "code",
   "execution_count": 5,
   "id": "403d2182",
   "metadata": {},
   "outputs": [],
   "source": [
    "df1 = read_xml_to_df(file_path1)\n",
    "df2 = read_xml_to_df(file_path2)"
   ]
  },
  {
   "cell_type": "code",
   "execution_count": 6,
   "id": "799085e7",
   "metadata": {},
   "outputs": [],
   "source": [
    "# function to insert the data into mongo db\n",
    "def insert_to_mongoDB(url, dataframe, database, collection):\n",
    "\n",
    "    client = MongoClient(url)\n",
    "\n",
    "    db = client[database]\n",
    "    collection = db[collection]\n",
    "\n",
    "    # Convert DataFrame to JSON\n",
    "    json_data = dataframe.to_json(orient='records')\n",
    "\n",
    "    # Insert Data into MongoDB\n",
    "    data = json.loads(json_data)\n",
    "    result = collection.insert_many(data)\n",
    "\n",
    "    # Print confirmation\n",
    "    if result.inserted_ids:\n",
    "        print(f\"Data inserted successfully\")\n",
    "    else:\n",
    "        print(\"Failed to insert data\")\n",
    "\n"
   ]
  },
  {
   "cell_type": "code",
   "execution_count": 7,
   "id": "f656562c",
   "metadata": {},
   "outputs": [
    {
     "name": "stdout",
     "output_type": "stream",
     "text": [
      "Data inserted successfully\n",
      "Data inserted successfully\n"
     ]
    }
   ],
   "source": [
    "mongo_url = 'mongodb://localhost:27017/'\n",
    "database = 'Washington_State_Department_of_Licensing'\n",
    "collection1 = 'Electric_Vehicle_Population'\n",
    "collection2 = 'Green_House_Gases_Emission'\n",
    "insert_to_mongoDB(mongo_url, df1, database, collection1)\n",
    "insert_to_mongoDB(mongo_url, df2, database, collection2)"
   ]
  },
  {
   "cell_type": "markdown",
   "id": "4cda70ff",
   "metadata": {},
   "source": [
    "<a id = \"reading_from_mongodb\"></a>\n",
    "\n",
    "## Reading data from MongoDB"
   ]
  },
  {
   "cell_type": "markdown",
   "id": "4b3f0091",
   "metadata": {},
   "source": [
    "#### Data is stored in MongoDB. The following function is to retrive data from MongoDB into a dataframe using pandas"
   ]
  },
  {
   "cell_type": "code",
   "execution_count": 8,
   "id": "d9914ffc",
   "metadata": {},
   "outputs": [],
   "source": [
    "# function to retrieve data from mongo db\n",
    "def retrive_from_mongoDB(url, database, collection):\n",
    "    client = MongoClient(url) \n",
    "    db = client[database]\n",
    "    collection = db[collection]\n",
    "    \n",
    "    # Retrieve data from MongoDB\n",
    "    cursor = collection.find({})\n",
    "    data = list(cursor)\n",
    "    return pd.DataFrame(data)\n",
    "\n",
    "# Read data from MongoDB \n",
    "df_ev = retrive_from_mongoDB(mongo_url, database, collection1)\n",
    "df_GHG = retrive_from_mongoDB(mongo_url, database, collection2)\n"
   ]
  },
  {
   "cell_type": "markdown",
   "id": "c74d0224",
   "metadata": {},
   "source": [
    "<a id = \"exploratory_data_analysis\"></a>\n",
    "## Exploratory data analysis"
   ]
  },
  {
   "cell_type": "markdown",
   "id": "50ba3392",
   "metadata": {},
   "source": [
    "#### ELectric Vehicle Population"
   ]
  },
  {
   "cell_type": "code",
   "execution_count": 9,
   "id": "5ae07c79",
   "metadata": {},
   "outputs": [
    {
     "data": {
      "text/html": [
       "<div>\n",
       "<style scoped>\n",
       "    .dataframe tbody tr th:only-of-type {\n",
       "        vertical-align: middle;\n",
       "    }\n",
       "\n",
       "    .dataframe tbody tr th {\n",
       "        vertical-align: top;\n",
       "    }\n",
       "\n",
       "    .dataframe thead th {\n",
       "        text-align: right;\n",
       "    }\n",
       "</style>\n",
       "<table border=\"1\" class=\"dataframe\">\n",
       "  <thead>\n",
       "    <tr style=\"text-align: right;\">\n",
       "      <th></th>\n",
       "      <th>_id</th>\n",
       "      <th>vin_1_10</th>\n",
       "      <th>county</th>\n",
       "      <th>city</th>\n",
       "      <th>state</th>\n",
       "      <th>zip_code</th>\n",
       "      <th>model_year</th>\n",
       "      <th>make</th>\n",
       "      <th>model</th>\n",
       "      <th>ev_type</th>\n",
       "      <th>cafv_type</th>\n",
       "      <th>electric_range</th>\n",
       "      <th>base_msrp</th>\n",
       "      <th>legislative_district</th>\n",
       "      <th>dol_vehicle_id</th>\n",
       "      <th>geocoded_column</th>\n",
       "      <th>electric_utility</th>\n",
       "      <th>_2020_census_tract</th>\n",
       "    </tr>\n",
       "  </thead>\n",
       "  <tbody>\n",
       "    <tr>\n",
       "      <th>0</th>\n",
       "      <td>657f491acd22c48157c72218</td>\n",
       "      <td>2C4RC1N71H</td>\n",
       "      <td>Kitsap</td>\n",
       "      <td>Bremerton</td>\n",
       "      <td>WA</td>\n",
       "      <td>98311</td>\n",
       "      <td>2017</td>\n",
       "      <td>CHRYSLER</td>\n",
       "      <td>PACIFICA</td>\n",
       "      <td>Plug-in Hybrid Electric Vehicle (PHEV)</td>\n",
       "      <td>Clean Alternative Fuel Vehicle Eligible</td>\n",
       "      <td>33</td>\n",
       "      <td>0</td>\n",
       "      <td>23</td>\n",
       "      <td>349437882</td>\n",
       "      <td>POINT (-122.6466274 47.6341188)</td>\n",
       "      <td>PUGET SOUND ENERGY INC</td>\n",
       "      <td>53035091800</td>\n",
       "    </tr>\n",
       "    <tr>\n",
       "      <th>1</th>\n",
       "      <td>657f491acd22c48157c72219</td>\n",
       "      <td>2C4RC1N7XL</td>\n",
       "      <td>Stevens</td>\n",
       "      <td>Colville</td>\n",
       "      <td>WA</td>\n",
       "      <td>99114</td>\n",
       "      <td>2020</td>\n",
       "      <td>CHRYSLER</td>\n",
       "      <td>PACIFICA</td>\n",
       "      <td>Plug-in Hybrid Electric Vehicle (PHEV)</td>\n",
       "      <td>Clean Alternative Fuel Vehicle Eligible</td>\n",
       "      <td>32</td>\n",
       "      <td>0</td>\n",
       "      <td>7</td>\n",
       "      <td>154690532</td>\n",
       "      <td>POINT (-117.90431 48.547075)</td>\n",
       "      <td>AVISTA CORP</td>\n",
       "      <td>53065950500</td>\n",
       "    </tr>\n",
       "    <tr>\n",
       "      <th>2</th>\n",
       "      <td>657f491acd22c48157c7221a</td>\n",
       "      <td>KNDC3DLCXN</td>\n",
       "      <td>Yakima</td>\n",
       "      <td>Yakima</td>\n",
       "      <td>WA</td>\n",
       "      <td>98908</td>\n",
       "      <td>2022</td>\n",
       "      <td>KIA</td>\n",
       "      <td>EV6</td>\n",
       "      <td>Battery Electric Vehicle (BEV)</td>\n",
       "      <td>Eligibility unknown as battery range has not b...</td>\n",
       "      <td>0</td>\n",
       "      <td>0</td>\n",
       "      <td>14</td>\n",
       "      <td>219969144</td>\n",
       "      <td>POINT (-120.6027202 46.5965625)</td>\n",
       "      <td>PACIFICORP</td>\n",
       "      <td>53077000904</td>\n",
       "    </tr>\n",
       "    <tr>\n",
       "      <th>3</th>\n",
       "      <td>657f491acd22c48157c7221b</td>\n",
       "      <td>5YJ3E1EA0J</td>\n",
       "      <td>Kitsap</td>\n",
       "      <td>Bainbridge Island</td>\n",
       "      <td>WA</td>\n",
       "      <td>98110</td>\n",
       "      <td>2018</td>\n",
       "      <td>TESLA</td>\n",
       "      <td>MODEL 3</td>\n",
       "      <td>Battery Electric Vehicle (BEV)</td>\n",
       "      <td>Clean Alternative Fuel Vehicle Eligible</td>\n",
       "      <td>215</td>\n",
       "      <td>0</td>\n",
       "      <td>23</td>\n",
       "      <td>476786887</td>\n",
       "      <td>POINT (-122.5235781 47.6293323)</td>\n",
       "      <td>PUGET SOUND ENERGY INC</td>\n",
       "      <td>53035091001</td>\n",
       "    </tr>\n",
       "    <tr>\n",
       "      <th>4</th>\n",
       "      <td>657f491acd22c48157c7221c</td>\n",
       "      <td>1N4AZ1CP7J</td>\n",
       "      <td>Thurston</td>\n",
       "      <td>Tumwater</td>\n",
       "      <td>WA</td>\n",
       "      <td>98501</td>\n",
       "      <td>2018</td>\n",
       "      <td>NISSAN</td>\n",
       "      <td>LEAF</td>\n",
       "      <td>Battery Electric Vehicle (BEV)</td>\n",
       "      <td>Clean Alternative Fuel Vehicle Eligible</td>\n",
       "      <td>151</td>\n",
       "      <td>0</td>\n",
       "      <td>35</td>\n",
       "      <td>201185253</td>\n",
       "      <td>POINT (-122.89692 47.043535)</td>\n",
       "      <td>PUGET SOUND ENERGY INC</td>\n",
       "      <td>53067011720</td>\n",
       "    </tr>\n",
       "  </tbody>\n",
       "</table>\n",
       "</div>"
      ],
      "text/plain": [
       "                        _id    vin_1_10    county               city state  \\\n",
       "0  657f491acd22c48157c72218  2C4RC1N71H    Kitsap          Bremerton    WA   \n",
       "1  657f491acd22c48157c72219  2C4RC1N7XL   Stevens           Colville    WA   \n",
       "2  657f491acd22c48157c7221a  KNDC3DLCXN    Yakima             Yakima    WA   \n",
       "3  657f491acd22c48157c7221b  5YJ3E1EA0J    Kitsap  Bainbridge Island    WA   \n",
       "4  657f491acd22c48157c7221c  1N4AZ1CP7J  Thurston           Tumwater    WA   \n",
       "\n",
       "  zip_code model_year      make     model  \\\n",
       "0    98311       2017  CHRYSLER  PACIFICA   \n",
       "1    99114       2020  CHRYSLER  PACIFICA   \n",
       "2    98908       2022       KIA       EV6   \n",
       "3    98110       2018     TESLA   MODEL 3   \n",
       "4    98501       2018    NISSAN      LEAF   \n",
       "\n",
       "                                  ev_type  \\\n",
       "0  Plug-in Hybrid Electric Vehicle (PHEV)   \n",
       "1  Plug-in Hybrid Electric Vehicle (PHEV)   \n",
       "2          Battery Electric Vehicle (BEV)   \n",
       "3          Battery Electric Vehicle (BEV)   \n",
       "4          Battery Electric Vehicle (BEV)   \n",
       "\n",
       "                                           cafv_type electric_range base_msrp  \\\n",
       "0            Clean Alternative Fuel Vehicle Eligible             33         0   \n",
       "1            Clean Alternative Fuel Vehicle Eligible             32         0   \n",
       "2  Eligibility unknown as battery range has not b...              0         0   \n",
       "3            Clean Alternative Fuel Vehicle Eligible            215         0   \n",
       "4            Clean Alternative Fuel Vehicle Eligible            151         0   \n",
       "\n",
       "  legislative_district dol_vehicle_id                  geocoded_column  \\\n",
       "0                   23      349437882  POINT (-122.6466274 47.6341188)   \n",
       "1                    7      154690532     POINT (-117.90431 48.547075)   \n",
       "2                   14      219969144  POINT (-120.6027202 46.5965625)   \n",
       "3                   23      476786887  POINT (-122.5235781 47.6293323)   \n",
       "4                   35      201185253     POINT (-122.89692 47.043535)   \n",
       "\n",
       "         electric_utility _2020_census_tract  \n",
       "0  PUGET SOUND ENERGY INC        53035091800  \n",
       "1             AVISTA CORP        53065950500  \n",
       "2              PACIFICORP        53077000904  \n",
       "3  PUGET SOUND ENERGY INC        53035091001  \n",
       "4  PUGET SOUND ENERGY INC        53067011720  "
      ]
     },
     "execution_count": 9,
     "metadata": {},
     "output_type": "execute_result"
    }
   ],
   "source": [
    "# check the top rows for a general understanding of the dataframe\n",
    "df_ev.head()"
   ]
  },
  {
   "cell_type": "code",
   "execution_count": 10,
   "id": "16db28f4",
   "metadata": {},
   "outputs": [
    {
     "name": "stdout",
     "output_type": "stream",
     "text": [
      "Number of rows:  159467\n",
      "Number of columns:  18\n"
     ]
    }
   ],
   "source": [
    "# check the number of rows and columns in the dataframe\n",
    "rows, columns = df_ev.shape\n",
    "print('Number of rows: ', rows)\n",
    "print('Number of columns: ', columns)"
   ]
  },
  {
   "cell_type": "code",
   "execution_count": 11,
   "id": "9d69c3af",
   "metadata": {},
   "outputs": [
    {
     "data": {
      "text/plain": [
       "Index(['_id', 'vin_1_10', 'county', 'city', 'state', 'zip_code', 'model_year',\n",
       "       'make', 'model', 'ev_type', 'cafv_type', 'electric_range', 'base_msrp',\n",
       "       'legislative_district', 'dol_vehicle_id', 'geocoded_column',\n",
       "       'electric_utility', '_2020_census_tract'],\n",
       "      dtype='object')"
      ]
     },
     "execution_count": 11,
     "metadata": {},
     "output_type": "execute_result"
    }
   ],
   "source": [
    "# check the columns in the dataframe\n",
    "df_ev.columns"
   ]
  },
  {
   "cell_type": "code",
   "execution_count": 12,
   "id": "f31b60f5",
   "metadata": {},
   "outputs": [
    {
     "name": "stdout",
     "output_type": "stream",
     "text": [
      "<class 'pandas.core.frame.DataFrame'>\n",
      "RangeIndex: 159467 entries, 0 to 159466\n",
      "Data columns (total 18 columns):\n",
      " #   Column                Non-Null Count   Dtype \n",
      "---  ------                --------------   ----- \n",
      " 0   _id                   159467 non-null  object\n",
      " 1   vin_1_10              159467 non-null  object\n",
      " 2   county                159467 non-null  object\n",
      " 3   city                  159467 non-null  object\n",
      " 4   state                 159467 non-null  object\n",
      " 5   zip_code              159467 non-null  object\n",
      " 6   model_year            159467 non-null  object\n",
      " 7   make                  159467 non-null  object\n",
      " 8   model                 159467 non-null  object\n",
      " 9   ev_type               159467 non-null  object\n",
      " 10  cafv_type             159467 non-null  object\n",
      " 11  electric_range        159467 non-null  object\n",
      " 12  base_msrp             159467 non-null  object\n",
      " 13  legislative_district  159467 non-null  object\n",
      " 14  dol_vehicle_id        159467 non-null  object\n",
      " 15  geocoded_column       159467 non-null  object\n",
      " 16  electric_utility      159467 non-null  object\n",
      " 17  _2020_census_tract    159467 non-null  object\n",
      "dtypes: object(18)\n",
      "memory usage: 21.9+ MB\n"
     ]
    }
   ],
   "source": [
    "# check the info to understand the datatypes and non-null counts of each feature\n",
    "df_ev.info()"
   ]
  },
  {
   "cell_type": "code",
   "execution_count": 13,
   "id": "b5728ca2",
   "metadata": {},
   "outputs": [
    {
     "data": {
      "image/png": "[encoded data removed]",
      "text/plain": [
       "<Figure size 1000x600 with 1 Axes>"
      ]
     },
     "metadata": {},
     "output_type": "display_data"
    }
   ],
   "source": [
    "# check for missing values in the dataframe using a heatmap\n",
    "plt.figure(figsize=(10, 6))\n",
    "sns.heatmap(df_ev.isnull(), cmap='coolwarm', cbar=False, yticklabels=False)\n",
    "plt.title('Heatmap of Missing Values')\n",
    "plt.show()"
   ]
  },
  {
   "cell_type": "markdown",
   "id": "4b487691",
   "metadata": {},
   "source": [
    "There does not seem to be missing values in any features. It can be confirmed by printing the sum of rows with missing values for all the features."
   ]
  },
  {
   "cell_type": "code",
   "execution_count": 14,
   "id": "4739063b",
   "metadata": {},
   "outputs": [
    {
     "data": {
      "text/plain": [
       "_id                     0\n",
       "vin_1_10                0\n",
       "county                  0\n",
       "city                    0\n",
       "state                   0\n",
       "zip_code                0\n",
       "model_year              0\n",
       "make                    0\n",
       "model                   0\n",
       "ev_type                 0\n",
       "cafv_type               0\n",
       "electric_range          0\n",
       "base_msrp               0\n",
       "legislative_district    0\n",
       "dol_vehicle_id          0\n",
       "geocoded_column         0\n",
       "electric_utility        0\n",
       "_2020_census_tract      0\n",
       "dtype: int64"
      ]
     },
     "execution_count": 14,
     "metadata": {},
     "output_type": "execute_result"
    }
   ],
   "source": [
    "# check for missing values\n",
    "df_ev.isnull().sum()"
   ]
  },
  {
   "cell_type": "code",
   "execution_count": 15,
   "id": "e540e466",
   "metadata": {},
   "outputs": [
    {
     "data": {
      "text/plain": [
       "0"
      ]
     },
     "execution_count": 15,
     "metadata": {},
     "output_type": "execute_result"
    }
   ],
   "source": [
    "# check for any duplicate rows in the dataframe\n",
    "df_ev.duplicated().sum()"
   ]
  },
  {
   "cell_type": "markdown",
   "id": "b0cbaa56",
   "metadata": {},
   "source": [
    "There are no missing values or duplicates in the dataframe."
   ]
  },
  {
   "cell_type": "markdown",
   "id": "fa1ba95c",
   "metadata": {},
   "source": [
    "### Greenhouse gases emission"
   ]
  },
  {
   "cell_type": "code",
   "execution_count": 11,
   "id": "0bf8a9df",
   "metadata": {},
   "outputs": [
    {
     "data": {
      "text/html": [
       "<div>\n",
       "<style scoped>\n",
       "    .dataframe tbody tr th:only-of-type {\n",
       "        vertical-align: middle;\n",
       "    }\n",
       "\n",
       "    .dataframe tbody tr th {\n",
       "        vertical-align: top;\n",
       "    }\n",
       "\n",
       "    .dataframe thead th {\n",
       "        text-align: right;\n",
       "    }\n",
       "</style>\n",
       "<table border=\"1\" class=\"dataframe\">\n",
       "  <thead>\n",
       "    <tr style=\"text-align: right;\">\n",
       "      <th></th>\n",
       "      <th>_id</th>\n",
       "      <th>facility</th>\n",
       "      <th>year</th>\n",
       "      <th>sector</th>\n",
       "      <th>subsector</th>\n",
       "      <th>primary_naics_code</th>\n",
       "      <th>naics_definition</th>\n",
       "      <th>parent_company</th>\n",
       "      <th>city</th>\n",
       "      <th>county</th>\n",
       "      <th>...</th>\n",
       "      <th>methane_mtco2e</th>\n",
       "      <th>nitrous_oxide_mtco2e</th>\n",
       "      <th>hfcs_mtco2e</th>\n",
       "      <th>pfcs_mtco2e</th>\n",
       "      <th>sulfur_hexafluoride_mtco2e</th>\n",
       "      <th>fluorinated_other_mtco2e</th>\n",
       "      <th>notes</th>\n",
       "      <th>point_size</th>\n",
       "      <th>location</th>\n",
       "      <th>geocoded_column</th>\n",
       "    </tr>\n",
       "  </thead>\n",
       "  <tbody>\n",
       "    <tr>\n",
       "      <th>0</th>\n",
       "      <td>657f45fa2e81d728c44ab6af</td>\n",
       "      <td>Alcoa Intalco Works - Ferndale</td>\n",
       "      <td>2021</td>\n",
       "      <td>Metals</td>\n",
       "      <td>Aluminum Production</td>\n",
       "      <td>331312</td>\n",
       "      <td>Primary Aluminum Production</td>\n",
       "      <td>Alcoa Corp.</td>\n",
       "      <td>Ferndale</td>\n",
       "      <td>Whatcom</td>\n",
       "      <td>...</td>\n",
       "      <td>8222</td>\n",
       "      <td>1</td>\n",
       "      <td>0</td>\n",
       "      <td>0</td>\n",
       "      <td>0</td>\n",
       "      <td>0</td>\n",
       "      <td>Curtailed mid 2020.</td>\n",
       "      <td>1</td>\n",
       "      <td>(48.8455, -122.7055)</td>\n",
       "      <td>POINT (-122.7055 48.8455)</td>\n",
       "    </tr>\n",
       "    <tr>\n",
       "      <th>1</th>\n",
       "      <td>657f45fa2e81d728c44ab6b0</td>\n",
       "      <td>Avista Corporation - supplier</td>\n",
       "      <td>2021</td>\n",
       "      <td>Supplier</td>\n",
       "      <td>Natural Gas Supplier</td>\n",
       "      <td>4911</td>\n",
       "      <td>Primary Aluminum Production</td>\n",
       "      <td>Alcoa Corp.</td>\n",
       "      <td>Spokane</td>\n",
       "      <td>Spokane</td>\n",
       "      <td>...</td>\n",
       "      <td>511</td>\n",
       "      <td>609</td>\n",
       "      <td>0</td>\n",
       "      <td>0</td>\n",
       "      <td>0</td>\n",
       "      <td>0</td>\n",
       "      <td>Currently Undergoing Verification.</td>\n",
       "      <td>4</td>\n",
       "      <td>(48.8455, -122.7055)</td>\n",
       "      <td>POINT (-122.7055 48.8455)</td>\n",
       "    </tr>\n",
       "    <tr>\n",
       "      <th>2</th>\n",
       "      <td>657f45fa2e81d728c44ab6b1</td>\n",
       "      <td>Frito Lay - Vancouver</td>\n",
       "      <td>2021</td>\n",
       "      <td>Food Production</td>\n",
       "      <td>Other Food Products</td>\n",
       "      <td>311919</td>\n",
       "      <td>Other Snack Food Manufacturing</td>\n",
       "      <td>PepsiCo Inc</td>\n",
       "      <td>Vancouver</td>\n",
       "      <td>Clark</td>\n",
       "      <td>...</td>\n",
       "      <td>7</td>\n",
       "      <td>8</td>\n",
       "      <td>0</td>\n",
       "      <td>0</td>\n",
       "      <td>0</td>\n",
       "      <td>0</td>\n",
       "      <td>Currently Undergoing Verification.</td>\n",
       "      <td>1</td>\n",
       "      <td>(45.657037, -122.692)</td>\n",
       "      <td>POINT (-122.692 45.657037)</td>\n",
       "    </tr>\n",
       "    <tr>\n",
       "      <th>3</th>\n",
       "      <td>657f45fa2e81d728c44ab6b2</td>\n",
       "      <td>Georgia-Pacific Consumer Operations LLC - Camas</td>\n",
       "      <td>2017</td>\n",
       "      <td>Pulp and Paper</td>\n",
       "      <td>Kraft Mills</td>\n",
       "      <td>322121</td>\n",
       "      <td>Paper (except Newsprint) Mills</td>\n",
       "      <td>Koch Industries Inc.</td>\n",
       "      <td>Camas</td>\n",
       "      <td>Clark</td>\n",
       "      <td>...</td>\n",
       "      <td>7198</td>\n",
       "      <td>1310</td>\n",
       "      <td>0</td>\n",
       "      <td>0</td>\n",
       "      <td>0</td>\n",
       "      <td>0</td>\n",
       "      <td>Currently Undergoing Verification.</td>\n",
       "      <td>3</td>\n",
       "      <td>(45.584271, -122.40843)</td>\n",
       "      <td>POINT (-122.40843 45.584271)</td>\n",
       "    </tr>\n",
       "    <tr>\n",
       "      <th>4</th>\n",
       "      <td>657f45fa2e81d728c44ab6b3</td>\n",
       "      <td>Interfor US, Inc. - Port Angeles</td>\n",
       "      <td>2017</td>\n",
       "      <td>Wood Products</td>\n",
       "      <td>Lumber Mills</td>\n",
       "      <td>321113</td>\n",
       "      <td>Sawmills</td>\n",
       "      <td>Interfor US Inc.</td>\n",
       "      <td>Port Angeles</td>\n",
       "      <td>Clallam</td>\n",
       "      <td>...</td>\n",
       "      <td>77</td>\n",
       "      <td>461</td>\n",
       "      <td>0</td>\n",
       "      <td>0</td>\n",
       "      <td>0</td>\n",
       "      <td>0</td>\n",
       "      <td>Currently Undergoing Verification.</td>\n",
       "      <td>2</td>\n",
       "      <td>(48.103425, -123.518642)</td>\n",
       "      <td>POINT (-123.518642 48.103425)</td>\n",
       "    </tr>\n",
       "  </tbody>\n",
       "</table>\n",
       "<p>5 rows × 24 columns</p>\n",
       "</div>"
      ],
      "text/plain": [
       "                        _id                                         facility  \\\n",
       "0  657f45fa2e81d728c44ab6af                   Alcoa Intalco Works - Ferndale   \n",
       "1  657f45fa2e81d728c44ab6b0                    Avista Corporation - supplier   \n",
       "2  657f45fa2e81d728c44ab6b1                            Frito Lay - Vancouver   \n",
       "3  657f45fa2e81d728c44ab6b2  Georgia-Pacific Consumer Operations LLC - Camas   \n",
       "4  657f45fa2e81d728c44ab6b3                 Interfor US, Inc. - Port Angeles   \n",
       "\n",
       "   year           sector             subsector primary_naics_code  \\\n",
       "0  2021           Metals   Aluminum Production             331312   \n",
       "1  2021         Supplier  Natural Gas Supplier               4911   \n",
       "2  2021  Food Production   Other Food Products             311919   \n",
       "3  2017   Pulp and Paper           Kraft Mills             322121   \n",
       "4  2017    Wood Products          Lumber Mills             321113   \n",
       "\n",
       "                 naics_definition        parent_company          city  \\\n",
       "0     Primary Aluminum Production           Alcoa Corp.      Ferndale   \n",
       "1     Primary Aluminum Production           Alcoa Corp.       Spokane   \n",
       "2  Other Snack Food Manufacturing           PepsiCo Inc     Vancouver   \n",
       "3  Paper (except Newsprint) Mills  Koch Industries Inc.         Camas   \n",
       "4                        Sawmills      Interfor US Inc.  Port Angeles   \n",
       "\n",
       "    county  ... methane_mtco2e nitrous_oxide_mtco2e hfcs_mtco2e pfcs_mtco2e  \\\n",
       "0  Whatcom  ...           8222                    1           0           0   \n",
       "1  Spokane  ...            511                  609           0           0   \n",
       "2    Clark  ...              7                    8           0           0   \n",
       "3    Clark  ...           7198                 1310           0           0   \n",
       "4  Clallam  ...             77                  461           0           0   \n",
       "\n",
       "  sulfur_hexafluoride_mtco2e fluorinated_other_mtco2e  \\\n",
       "0                          0                        0   \n",
       "1                          0                        0   \n",
       "2                          0                        0   \n",
       "3                          0                        0   \n",
       "4                          0                        0   \n",
       "\n",
       "                                notes point_size                  location  \\\n",
       "0                 Curtailed mid 2020.          1      (48.8455, -122.7055)   \n",
       "1  Currently Undergoing Verification.          4      (48.8455, -122.7055)   \n",
       "2  Currently Undergoing Verification.          1     (45.657037, -122.692)   \n",
       "3  Currently Undergoing Verification.          3   (45.584271, -122.40843)   \n",
       "4  Currently Undergoing Verification.          2  (48.103425, -123.518642)   \n",
       "\n",
       "                 geocoded_column  \n",
       "0      POINT (-122.7055 48.8455)  \n",
       "1      POINT (-122.7055 48.8455)  \n",
       "2     POINT (-122.692 45.657037)  \n",
       "3   POINT (-122.40843 45.584271)  \n",
       "4  POINT (-123.518642 48.103425)  \n",
       "\n",
       "[5 rows x 24 columns]"
      ]
     },
     "execution_count": 11,
     "metadata": {},
     "output_type": "execute_result"
    }
   ],
   "source": [
    "# Display the DataFrame\n",
    "df_GHG.head()"
   ]
  },
  {
   "cell_type": "code",
   "execution_count": 12,
   "id": "72b9505a",
   "metadata": {},
   "outputs": [
    {
     "name": "stdout",
     "output_type": "stream",
     "text": [
      "Total number of rows: 1608\n",
      "Total number columns: 24\n"
     ]
    }
   ],
   "source": [
    "#To print total number of rows and columns in a dataframe \n",
    "number_of_rows, number_of_columns = df_GHG.shape\n",
    "\n",
    "print(\"Total number of rows:\",number_of_rows )\n",
    "print(\"Total number columns:\",number_of_columns)"
   ]
  },
  {
   "cell_type": "code",
   "execution_count": 13,
   "id": "92b8eb19",
   "metadata": {},
   "outputs": [
    {
     "name": "stdout",
     "output_type": "stream",
     "text": [
      "<class 'pandas.core.frame.DataFrame'>\n",
      "RangeIndex: 1608 entries, 0 to 1607\n",
      "Data columns (total 24 columns):\n",
      " #   Column                          Non-Null Count  Dtype \n",
      "---  ------                          --------------  ----- \n",
      " 0   _id                             1608 non-null   object\n",
      " 1   facility                        1608 non-null   object\n",
      " 2   year                            1608 non-null   object\n",
      " 3   sector                          1608 non-null   object\n",
      " 4   subsector                       1608 non-null   object\n",
      " 5   primary_naics_code              1608 non-null   object\n",
      " 6   naics_definition                1608 non-null   object\n",
      " 7   parent_company                  1608 non-null   object\n",
      " 8   city                            1608 non-null   object\n",
      " 9   county                          1608 non-null   object\n",
      " 10  jurisdiction                    1608 non-null   object\n",
      " 11  total_emissions_mtco2e          1608 non-null   object\n",
      " 12  biogenic_carbon_dioxide_mtco2e  1608 non-null   object\n",
      " 13  carbon_dioxide_mtco2e           1608 non-null   object\n",
      " 14  methane_mtco2e                  1608 non-null   object\n",
      " 15  nitrous_oxide_mtco2e            1608 non-null   object\n",
      " 16  hfcs_mtco2e                     1608 non-null   object\n",
      " 17  pfcs_mtco2e                     1608 non-null   object\n",
      " 18  sulfur_hexafluoride_mtco2e      1608 non-null   object\n",
      " 19  fluorinated_other_mtco2e        1608 non-null   object\n",
      " 20  notes                           1608 non-null   object\n",
      " 21  point_size                      1608 non-null   object\n",
      " 22  location                        1608 non-null   object\n",
      " 23  geocoded_column                 1608 non-null   object\n",
      "dtypes: object(24)\n",
      "memory usage: 301.6+ KB\n"
     ]
    }
   ],
   "source": [
    "#check the info of dataframe \n",
    "df_GHG.info()\n"
   ]
  },
  {
   "cell_type": "code",
   "execution_count": 14,
   "id": "6fe2b6ff",
   "metadata": {},
   "outputs": [
    {
     "data": {
      "image/png": "[encoded data removed]",
      "text/plain": [
       "<Figure size 1000x600 with 1 Axes>"
      ]
     },
     "metadata": {},
     "output_type": "display_data"
    }
   ],
   "source": [
    "# check for missing values in the dataframe using a heatmap\n",
    "plt.figure(figsize=(10, 6))\n",
    "sns.heatmap(df_GHG.isnull(), cmap='coolwarm', cbar=False, yticklabels=False)\n",
    "plt.title('Heatmap of Missing Values')\n",
    "plt.show()"
   ]
  },
  {
   "cell_type": "code",
   "execution_count": 15,
   "id": "de70f898",
   "metadata": {},
   "outputs": [
    {
     "data": {
      "text/plain": [
       "_id                               0\n",
       "facility                          0\n",
       "year                              0\n",
       "sector                            0\n",
       "subsector                         0\n",
       "primary_naics_code                0\n",
       "naics_definition                  0\n",
       "parent_company                    0\n",
       "city                              0\n",
       "county                            0\n",
       "jurisdiction                      0\n",
       "total_emissions_mtco2e            0\n",
       "biogenic_carbon_dioxide_mtco2e    0\n",
       "carbon_dioxide_mtco2e             0\n",
       "methane_mtco2e                    0\n",
       "nitrous_oxide_mtco2e              0\n",
       "hfcs_mtco2e                       0\n",
       "pfcs_mtco2e                       0\n",
       "sulfur_hexafluoride_mtco2e        0\n",
       "fluorinated_other_mtco2e          0\n",
       "notes                             0\n",
       "point_size                        0\n",
       "location                          0\n",
       "geocoded_column                   0\n",
       "dtype: int64"
      ]
     },
     "execution_count": 15,
     "metadata": {},
     "output_type": "execute_result"
    }
   ],
   "source": [
    "#check the null values \n",
    "df_GHG.isnull().sum()\n"
   ]
  },
  {
   "cell_type": "code",
   "execution_count": 16,
   "id": "8bca46fc",
   "metadata": {},
   "outputs": [
    {
     "data": {
      "text/plain": [
       "0"
      ]
     },
     "execution_count": 16,
     "metadata": {},
     "output_type": "execute_result"
    }
   ],
   "source": [
    "#check for duplicated values \n",
    "df_GHG.duplicated().sum()"
   ]
  },
  {
   "cell_type": "markdown",
   "id": "5dde5785",
   "metadata": {},
   "source": [
    "  From the above methods we can conclude there are no missing values and duplicates in the dataframe "
   ]
  }
 ],
 "metadata": {
  "kernelspec": {
   "display_name": "Python 3 (ipykernel)",
   "language": "python",
   "name": "python3"
  },
  "language_info": {
   "codemirror_mode": {
    "name": "ipython",
    "version": 3
   },
   "file_extension": ".py",
   "mimetype": "text/x-python",
   "name": "python",
   "nbconvert_exporter": "python",
   "pygments_lexer": "ipython3",
   "version": "3.11.4"
  }
 },
 "nbformat": 4,
 "nbformat_minor": 5
}
